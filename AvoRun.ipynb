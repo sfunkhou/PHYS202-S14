{
 "metadata": {
  "name": "",
  "signature": "sha256:d44c2781982825af5f07d0a82c2147ff606443a68e4eeb5159ff5e16e2d0014e"
 },
 "nbformat": 3,
 "nbformat_minor": 0,
 "worksheets": [
  {
   "cells": [
    {
     "cell_type": "code",
     "collapsed": false,
     "input": [
      "%pylab inline\n",
      "import Blobfinder\n",
      "import numpy as np"
     ],
     "language": "python",
     "metadata": {},
     "outputs": [
      {
       "output_type": "stream",
       "stream": "stdout",
       "text": [
        "Populating the interactive namespace from numpy and matplotlib\n"
       ]
      }
     ],
     "prompt_number": 21
    },
    {
     "cell_type": "code",
     "collapsed": false,
     "input": [
      "frames = []\n",
      "for i in range(200):\n",
      "    x = str(i)\n",
      "    if i < 10:\n",
      "        frames.append(\"frame000\"+x+\".jpg\")\n",
      "    elif i < 100:\n",
      "        frames.append(\"frame00\"+x+\".jpg\")\n",
      "    else:\n",
      "        frames.append(\"frame0\"+x+\".jpg\")\n"
     ],
     "language": "python",
     "metadata": {},
     "outputs": [],
     "prompt_number": 22
    },
    {
     "cell_type": "code",
     "collapsed": false,
     "input": [
      "#distance from all \n",
      "distances = []\n",
      "distance_list = []\n",
      "\n",
      "def ParticleTracker(frames,P,tau,delta_p): \n",
      "    for n in range(200):\n",
      "        frame1 = Image.open(frames[n])\n",
      "        frame2 = Image.open(frames[n+1])\n",
      "        \n",
      "        beads_1 = getBeads(P,BlobFinder(frame1,tau))\n",
      "        beads_2 = getBeads(P,BlobFinder(frame2,tau))\n",
      "        for i in range(len(beads1)):\n",
      "            for j in range(len(beads2)):  \n",
      "                distance = Blob.distanceTo(beads_1[i],beads_1[i].centerOfMass,beads_2[j].centerofMass)\n",
      "                \n",
      "                if distance < delta_p:\n",
      "                    distances.append(distance)\n",
      "                    \n",
      "            if len(distances) > 0:\n",
      "                distance_list.append(min(distances))\n",
      "            distances = []\n",
      "        \n",
      "        if len(beads1) != len(beads2):\n",
      "            \n",
      "\n",
      "    return distant_list\n",
      "np.savetxt('Avo_Data.txt',distance_list, fmt='%.4e', header=\"My dataset\")\n",
      "\n",
      "#!cat Avo_Data.txt           \n",
      "print distance_list\n"
     ],
     "language": "python",
     "metadata": {},
     "outputs": [
      {
       "output_type": "stream",
       "stream": "stdout",
       "text": [
        "[]\n"
       ]
      }
     ],
     "prompt_number": 25
    },
    {
     "cell_type": "code",
     "collapsed": false,
     "input": [],
     "language": "python",
     "metadata": {},
     "outputs": []
    }
   ],
   "metadata": {}
  }
 ]
}