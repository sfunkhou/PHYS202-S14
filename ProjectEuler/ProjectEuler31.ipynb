{
 "metadata": {
  "name": "",
  "signature": "sha256:50a722ad6de8dfa60f86468303208ae71d8552f543ef58a5be4f058654094ecc"
 },
 "nbformat": 3,
 "nbformat_minor": 0,
 "worksheets": [
  {
   "cells": [
    {
     "cell_type": "heading",
     "level": 1,
     "metadata": {},
     "source": [
      "Project Euler 31"
     ]
    },
    {
     "cell_type": "markdown",
     "metadata": {},
     "source": [
      "\n",
      "\n",
      "In England the currency is made up of pound, \u00a3, and pence, p, and there are eight coins in general circulation:\n",
      "\n",
      "    1p, 2p, 5p, 10p, 20p, 50p, \u00a31 (100p) and \u00a32 (200p).\n",
      "\n",
      "It is possible to make \u00a32 in the following way:\n",
      "\n",
      "    1\u00d7\u00a31 + 1\u00d750p + 2\u00d720p + 1\u00d75p + 1\u00d72p + 3\u00d71p\n",
      "\n",
      "How many different ways can \u00a32 be made using any number of coins?\n"
     ]
    },
    {
     "cell_type": "code",
     "collapsed": false,
     "input": [
      "denominations = [2, 1, .5, .2, .1, .05, .02, .01]\n",
      "#method one: linear algebra approach- dot product with five nester for loops... 20 minute computation\n",
      "\n",
      "#method two: assessing 2 pound fractions\n"
     ],
     "language": "python",
     "metadata": {},
     "outputs": []
    }
   ],
   "metadata": {}
  }
 ]
}