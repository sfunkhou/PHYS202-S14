{
 "metadata": {
  "name": "",
  "signature": "sha256:f26a4d7d15d7b2e04d57ab267305c3bd05dfda59a30877ea4530906ec09bb6e1"
 },
 "nbformat": 3,
 "nbformat_minor": 0,
 "worksheets": [
  {
   "cells": [
    {
     "cell_type": "markdown",
     "metadata": {},
     "source": [
      "\n",
      "\n",
      "The Fibonacci sequence is defined by the recurrence relation:\n",
      "\n",
      "    Fn = Fn\u22121 + Fn\u22122, where F1 = 1 and F2 = 1.\n",
      "\n",
      "Hence the first 12 terms will be:\n",
      "\n",
      "    F1 = 1\n",
      "    F2 = 1\n",
      "    F3 = 2\n",
      "    F4 = 3\n",
      "    F5 = 5\n",
      "    F6 = 8\n",
      "    F7 = 13\n",
      "    F8 = 21\n",
      "    F9 = 34\n",
      "    F10 = 55\n",
      "    F11 = 89\n",
      "    F12 = 144\n",
      "\n",
      "The 12th term, F12, is the first term to contain three digits.\n",
      "\n",
      "What is the first term in the Fibonacci sequence to contain 1000 digits?\n"
     ]
    },
    {
     "cell_type": "code",
     "collapsed": false,
     "input": [
      "#First: continuously create an array of terms\n",
      "#in the Fibonacci sequence, so long as the number's length is\n",
      "#less than or equal to 1000\n",
      "%pylab inline\n",
      "import numpy as np\n",
      "\n",
      "m = 2\n",
      "Fib = [1,1]\n",
      "#Fib.append(3)\n",
      "#print Fib\n",
      "#Fib[0] = 1\n",
      "#Fib[1] = 1\n",
      "while m>0:\n",
      "    Fib.append(Fib[m - 2] + Fib[m - 1])\n",
      "    if len(str(Fib[m])) < 1000:\n",
      "        m += 1 \n",
      "    else:\n",
      "        print \"The term with 1000 digits in the Fibonacci sequence is \", Fib[m]\n",
      "        print \"For verification, it's length is \", len(str(Fib[m]))\n",
      "        m = 0"
     ],
     "language": "python",
     "metadata": {},
     "outputs": [
      {
       "output_type": "stream",
       "stream": "stdout",
       "text": [
        "Populating the interactive namespace from numpy and matplotlib\n",
        "The term with 1000 digits in the Fibonacci sequence is "
       ]
      },
      {
       "output_type": "stream",
       "stream": "stdout",
       "text": [
        " 1070066266382758936764980584457396885083683896632151665013235203375314520604694040621889147582489792657804694888177591957484336466672569959512996030461262748092482186144069433051234774442750273781753087579391666192149259186759553966422837148943113074699503439547001985432609723067290192870526447243726117715821825548491120525013201478612965931381792235559657452039506137551467837543229119602129934048260706175397706847068202895486902666185435124521900369480641357447470911707619766945691070098024393439617474103736912503231365532164773697023167755051595173518460579954919410967778373229665796581646513903488154256310184224190259846088000110186255550245493937113651657039447629584714548523425950428582425306083544435428212611008992863795048006894330309773217834864543113205765659868456288616808718693835297350643986297640660000723562917905207051164077614812491885830945940566688339109350944456576357666151619317753792891661581327159616877487983821820492520348473874384736771934512787029218636250627816\n",
        "For verification, it's length is  1000\n"
       ]
      }
     ],
     "prompt_number": 8
    },
    {
     "cell_type": "code",
     "collapsed": false,
     "input": [],
     "language": "python",
     "metadata": {},
     "outputs": []
    }
   ],
   "metadata": {}
  }
 ]
}