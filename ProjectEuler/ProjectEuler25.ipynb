{
 "metadata": {
  "name": "",
  "signature": "sha256:7875c1a9af8bb395922e230dd3a4aa0ce3fc000a2ae36b21ef1e3ff43abcc31d"
 },
 "nbformat": 3,
 "nbformat_minor": 0,
 "worksheets": [
  {
   "cells": [
    {
     "cell_type": "markdown",
     "metadata": {},
     "source": [
      "\n",
      "\n",
      "The Fibonacci sequence is defined by the recurrence relation:\n",
      "\n",
      "    Fn = Fn\u22121 + Fn\u22122, where F1 = 1 and F2 = 1.\n",
      "\n",
      "Hence the first 12 terms will be:\n",
      "\n",
      "    F1 = 1\n",
      "    F2 = 1\n",
      "    F3 = 2\n",
      "    F4 = 3\n",
      "    F5 = 5\n",
      "    F6 = 8\n",
      "    F7 = 13\n",
      "    F8 = 21\n",
      "    F9 = 34\n",
      "    F10 = 55\n",
      "    F11 = 89\n",
      "    F12 = 144\n",
      "\n",
      "The 12th term, F12, is the first term to contain three digits.\n",
      "\n",
      "What is the first term in the Fibonacci sequence to contain 1000 digits?\n"
     ]
    },
    {
     "cell_type": "code",
     "collapsed": false,
     "input": [
      "#First: continuously create an array of terms\n",
      "#in the Fibonacci sequence, so long as the number's length is\n",
      "#less than or equal to 1000\n",
      "%pylab inline\n",
      "import numpy as np\n",
      "\n",
      "m = 2\n",
      "Fib = [1,1]\n",
      "#Fib.append(3)\n",
      "#print Fib\n",
      "#Fib[0] = 1\n",
      "#Fib[1] = 1\n",
      "while m>0:\n",
      "    Fib.append(Fib[m - 2] + Fib[m - 1])\n",
      "    if len(str(Fib[m])) < 1000:\n",
      "        m += 1 \n",
      "    else:\n",
      "        print m\n",
      "        #print \"The term with 1000 digits in the Fibonacci sequence is \", Fib[m]\n",
      "        #print \"For verification, it's length is \", len(str(Fib[m]))\n",
      "        m = 0"
     ],
     "language": "python",
     "metadata": {},
     "outputs": [
      {
       "output_type": "stream",
       "stream": "stdout",
       "text": [
        "Populating the interactive namespace from numpy and matplotlib\n",
        "4781"
       ]
      },
      {
       "output_type": "stream",
       "stream": "stdout",
       "text": [
        "\n"
       ]
      }
     ],
     "prompt_number": 1
    },
    {
     "cell_type": "code",
     "collapsed": false,
     "input": [],
     "language": "python",
     "metadata": {},
     "outputs": []
    }
   ],
   "metadata": {}
  }
 ]
}