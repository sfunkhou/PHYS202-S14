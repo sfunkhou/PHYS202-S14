{
 "metadata": {
  "name": "",
  "signature": "sha256:f764278b4b5473525bf85947b33cfb95ddccd672d54e546161f81a3b1f1353d7"
 },
 "nbformat": 3,
 "nbformat_minor": 0,
 "worksheets": [
  {
   "cells": [
    {
     "cell_type": "heading",
     "level": 1,
     "metadata": {},
     "source": [
      "Counting Sundays"
     ]
    },
    {
     "cell_type": "markdown",
     "metadata": {},
     "source": [
      "You are given the following information, but you may prefer to do some research for yourself.\n",
      "\n",
      "    1 Jan 1900 was a Monday.\n",
      "    Thirty days has September,\n",
      "    April, June and November.\n",
      "    All the rest have thirty-one,\n",
      "    Saving February alone,\n",
      "    Which has twenty-eight, rain or shine.\n",
      "    And on leap years, twenty-nine.\n",
      "    A leap year occurs on any year evenly divisible by 4, but not on a century unless it is divisible by 400.\n",
      "\n",
      "How many Sundays fell on the first of the month during the twentieth century (1 Jan 1901 to 31 Dec 2000)?\n"
     ]
    },
    {
     "cell_type": "code",
     "collapsed": false,
     "input": [
      "months = [31,28,31,30,31,30,31,31,30,31,30,31]\n",
      "\n",
      "count = 0\n",
      "total = 1\n",
      "#Finding out weekday of 1 Jan 1901\n",
      "#print 366 % 7\n",
      "# 1 Jan 1901 was a Tuesday\n",
      "\n",
      "#weedays = {Sunday:0, Monday:1, Tuesday:2, Wednesday:3, Thursday:4, Friday:5, Saturday:6}\n",
      "\n",
      "for year in range(1901, 2001):\n",
      "    for month in range(len(months)):\n",
      "        if year % 4 == 0 or year % 400 == 0:\n",
      "            months[2] = months[2] + 1\n",
      "            total = 1 + months[month]\n",
      "            if total % 7 == 1:\n",
      "                count += 1\n",
      "        else:\n",
      "            total = 1 + months[month]\n",
      "            if total % 7 == 1:\n",
      "                count += 1\n",
      "print count\n",
      "        "
     ],
     "language": "python",
     "metadata": {},
     "outputs": [
      {
       "output_type": "stream",
       "stream": "stdout",
       "text": [
        "113\n"
       ]
      }
     ],
     "prompt_number": 5
    },
    {
     "cell_type": "code",
     "collapsed": false,
     "input": [],
     "language": "python",
     "metadata": {},
     "outputs": []
    }
   ],
   "metadata": {}
  }
 ]
}