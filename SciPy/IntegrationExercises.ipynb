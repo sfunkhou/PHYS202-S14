{
 "metadata": {
  "name": "",
  "signature": "sha256:3bb61fe8ad6492c786a04a009c202130ecca31269fbb5ff8c046ab6123ccfbc9"
 },
 "nbformat": 3,
 "nbformat_minor": 0,
 "worksheets": [
  {
   "cells": [
    {
     "cell_type": "heading",
     "level": 1,
     "metadata": {},
     "source": [
      "Integration Exercises"
     ]
    },
    {
     "cell_type": "heading",
     "level": 2,
     "metadata": {},
     "source": [
      "Question 1"
     ]
    },
    {
     "cell_type": "markdown",
     "metadata": {},
     "source": [
      "Question 1\n",
      "(a) Write two functions trapz(func,a,b,N) and simps(func,a,b,N) to compute the integral of the function func over the variable x using the trapezoidal rule and Simpson's rule to a file called Integrators.py. Do not use the scipy.integrate built-in functions. Include docstrings with each function that describe what they do. Then import the module and use the functions to answer the following questions. To avoid namespace conflicts, import your module as myint and then call the functions from that namespace. i.e.\n",
      "    import integrators as myint\n",
      "    #...your code...here\n",
      "    I = myint.trapz(func,a,b,N)\n",
      "Also, be sure that you import any needed modules inside your Integrators.py file."
     ]
    },
    {
     "cell_type": "code",
     "collapsed": false,
     "input": [
      "%pylab inline\n",
      "import numpy as np\n",
      "import matplotlib.pyplot as plt"
     ],
     "language": "python",
     "metadata": {},
     "outputs": [
      {
       "output_type": "stream",
       "stream": "stdout",
       "text": [
        "Populating the interactive namespace from numpy and matplotlib\n"
       ]
      }
     ],
     "prompt_number": 2
    },
    {
     "cell_type": "code",
     "collapsed": false,
     "input": [
      "%%file Integrators.py \n",
      "\n",
      "import numpy as np\n",
      "\n",
      "def trapz(func, a, b, N):\n",
      "    \"\"\"This function finds the integral of (area under) the function\n",
      "    passed, on the interval passed from a to b, with N subdivisions\n",
      "    of equal length. The total area is thus the sum of the areas\n",
      "    of N - 1 trapezoidal subdivisions.\n",
      "    \"\"\"\n",
      "    h = (b-a)/N\n",
      "    k = np.arange(1,N)\n",
      "    I = h*(0.5*func(a) + 0.5*func(b) + func(a+k*h).sum())\n",
      "\n",
      "    return I\n",
      "\n",
      "def simps(func, a, b, N):\n",
      "    \"\"\"This function computes the integral of the function passed\n",
      "    on the interval passed (from a to b) with N subdivisions. \n",
      "    This method of integration involves representing the area of\n",
      "    each subdivision by it's 'height', given by the passed function's\n",
      "    output at each subdivision's bound on the domain.\n",
      "    \"\"\"\n",
      "    h = (b-a)/N\n",
      "    k1 = np.arange(1,N/2+1)\n",
      "    k2 = np.arange(1,N/2)\n",
      "    I = (1./3.)*h*(func(a) + func(b) + 4.*func(a+(2*k1-1)*h).sum() + 2.*func(a+2*k2*h).sum())\n",
      "    \n",
      "    return I\n",
      "    \n",
      "\n",
      "\n"
     ],
     "language": "python",
     "metadata": {},
     "outputs": [
      {
       "output_type": "stream",
       "stream": "stdout",
       "text": [
        "Overwriting Integrators.py\n"
       ]
      }
     ],
     "prompt_number": 3
    },
    {
     "cell_type": "markdown",
     "metadata": {},
     "source": [
      "\n",
      "(b) Use your trapz and simps functions from part (a) to calculate the integral of x4\u22122x+1 from x = 0 to x = 2 with N = 10, N = 100, and N = 1000. Then compare your result to the known correct value of 4.4. What is the percent error in each case?"
     ]
    },
    {
     "cell_type": "code",
     "collapsed": false,
     "input": [
      "#%pylab inline\n",
      "#import numpy as np\n",
      "#import matplotlib.pyplot as plt\n",
      "\n",
      "import Integrators as myint\n",
      "func = lambda x: x**4 - 2*x +1\n",
      "\n",
      "#def func(x):\n",
      "    #return x**4 - 2*x + 1\n",
      "\n",
      "a = 0.\n",
      "b = 2.\n",
      "N = 10\n",
      "I1 = 0\n",
      "I2 = 0\n",
      "for i in range(3):\n",
      "    I1 = myint.trapz(func, a, b, N*10**i)\n",
      "    I2 = myint.simps(func, a, b, N*10**i)\n",
      "    \n",
      "    print \"For N = \", N**i, \", Traps yields: \", I1\n",
      "    print \"For N = \", N**i, \", Simps yields: \", I2\n"
     ],
     "language": "python",
     "metadata": {},
     "outputs": [
      {
       "output_type": "stream",
       "stream": "stdout",
       "text": [
        "For N =  1 , Traps yields:  4.50656\n",
        "For N =  1 , Simps yields:  4.40042666667\n",
        "For N =  10 , Traps yields:  4.401066656\n",
        "For N =  10 , Simps yields:  4.40000004267\n",
        "For N =  100 , Traps yields:  4.40001066667\n",
        "For N =  100 , Simps yields:  4.4\n"
       ]
      }
     ],
     "prompt_number": 4
    },
    {
     "cell_type": "heading",
     "level": 2,
     "metadata": {},
     "source": [
      "Question 2"
     ]
    },
    {
     "cell_type": "markdown",
     "metadata": {},
     "source": [
      "Consider the integral\n",
      "E(x)=\u222bx0e\u2212t2dt\n",
      "This is the error function, commonly seen in probability and statistics. There is no known way to perform this particular integral analytically, although the integrand can be expanded in a Taylor series and terms computed to arbitrary order. For most applications, numerical approaches are the only way forward.\n",
      "\n",
      "(a) Use scipy.integrate.cumtrapz to calculate E(x) for values of x from 0 to 3 in steps of 0.1. Print the result."
     ]
    },
    {
     "cell_type": "code",
     "collapsed": false,
     "input": [
      "import scipy.integrate as integrate\n",
      "help(integrate.cumtrapz)"
     ],
     "language": "python",
     "metadata": {},
     "outputs": [
      {
       "output_type": "stream",
       "stream": "stdout",
       "text": [
        "Help on function cumtrapz in module scipy.integrate.quadrature:\n",
        "\n",
        "cumtrapz(y, x=None, dx=1.0, axis=-1, initial=None)\n",
        "    Cumulatively integrate y(x) using the composite trapezoidal rule.\n",
        "    \n",
        "    Parameters\n",
        "    ----------\n",
        "    y : array_like\n",
        "        Values to integrate.\n",
        "    x : array_like, optional\n",
        "        The coordinate to integrate along.  If None (default), use spacing `dx`\n",
        "        between consecutive elements in `y`.\n",
        "    dx : int, optional\n",
        "        Spacing between elements of `y`.  Only used if `x` is None.\n",
        "    axis : int, optional\n",
        "        Specifies the axis to cumulate.  Default is -1 (last axis).\n",
        "    initial : scalar, optional\n",
        "        If given, uses this value as the first value in the returned result.\n",
        "        Typically this value should be 0.  Default is None, which means no\n",
        "        value at ``x[0]`` is returned and `res` has one element less than `y`\n",
        "        along the axis of integration.\n",
        "    \n",
        "    Returns\n",
        "    -------\n",
        "    res : ndarray\n",
        "        The result of cumulative integration of `y` along `axis`.\n",
        "        If `initial` is None, the shape is such that the axis of integration\n",
        "        has one less value than `y`.  If `initial` is given, the shape is equal\n",
        "        to that of `y`.\n",
        "    \n",
        "    See Also\n",
        "    --------\n",
        "    numpy.cumsum, numpy.cumprod\n",
        "    quad: adaptive quadrature using QUADPACK\n",
        "    romberg: adaptive Romberg quadrature\n",
        "    quadrature: adaptive Gaussian quadrature\n",
        "    fixed_quad: fixed-order Gaussian quadrature\n",
        "    dblquad: double integrals\n",
        "    tplquad: triple integrals\n",
        "    romb: integrators for sampled data\n",
        "    ode: ODE integrators\n",
        "    odeint: ODE integrators\n",
        "    \n",
        "    Examples\n",
        "    --------\n",
        "    >>> from scipy import integrate\n",
        "    >>> import matplotlib.pyplot as plt\n",
        "    \n",
        "    >>> x = np.linspace(-2, 2, num=20)\n",
        "    >>> y = x\n",
        "    >>> y_int = integrate.cumtrapz(y, x, initial=0)\n",
        "    >>> plt.plot(x, y_int, 'ro', x, y[0] + 0.5 * x**2, 'b-')\n",
        "    >>> plt.show()\n",
        "\n"
       ]
      }
     ],
     "prompt_number": 5
    },
    {
     "cell_type": "code",
     "collapsed": false,
     "input": [
      "#help(linspace)"
     ],
     "language": "python",
     "metadata": {},
     "outputs": [],
     "prompt_number": 15
    },
    {
     "cell_type": "code",
     "collapsed": false,
     "input": [
      "y = np.exp(-t**2)\n",
      "\n",
      "t = np.arange(0,3.1,0.1)\n",
      "#t = np.linspace(0,3, num = 30)\n",
      "result = integrate.cumtrapz(y, t, initial=0)\n",
      "\n",
      "print result\n"
     ],
     "language": "python",
     "metadata": {},
     "outputs": [
      {
       "output_type": "stream",
       "stream": "stdout",
       "text": [
        "[ 0.          0.09950249  0.19704446  0.29078049  0.37908424  0.46063146\n",
        "  0.53445532  0.59997046  0.6569664   0.70557392  0.7462108   0.77951463\n",
        "  0.80627088  0.82734325  0.84361215  0.85592503  0.86506023  0.87170427\n",
        "  0.87644128  0.87975207  0.88202044  0.88354398  0.88454709  0.88519453\n",
        "  0.88560418  0.88585826  0.88601274  0.88610482  0.88615862  0.88618943\n",
        "  0.88620673]\n"
       ]
      }
     ],
     "prompt_number": 20
    },
    {
     "cell_type": "markdown",
     "metadata": {},
     "source": [
      "(b) Plot the integrand as a function of t and E(x) as a function of x (both ranging from 0 to 3) on the same graph."
     ]
    },
    {
     "cell_type": "code",
     "collapsed": false,
     "input": [
      "plt.plot(result, t, label = \"E(x)\")\n",
      "plt.plot(y, t, label = \"Integrand\")\n",
      "plt.xlabel(r'$x=t$',fontsize=20)\n",
      "plt.ylabel(r'$y$', fontsize=20)\n",
      "plt.legend(loc = \"upper left\")\n",
      "\n",
      "plt.show()\n"
     ],
     "language": "python",
     "metadata": {},
     "outputs": [
      {
       "metadata": {},
       "output_type": "display_data",
       "png": "[encoded data removed]",
       "text": [
        "<matplotlib.figure.Figure at 0x106950c10>"
       ]
      }
     ],
     "prompt_number": 23
    },
    {
     "cell_type": "heading",
     "level": 2,
     "metadata": {},
     "source": [
      "Question 3"
     ]
    },
    {
     "cell_type": "markdown",
     "metadata": {},
     "source": [
      "Consider a particle in a one-dimensional box of width L. The probability of finding the particle between a and b is given by\n",
      "P(a,b)=\u222bba|\u03c8(x)|2dx\n",
      "where\n",
      "\u03c8(x)=2L\u203e\u203e\u203e\u221asin(n\u03c0xL)\n",
      "is the wavefunction.\n",
      "\n",
      "(a) What is the probability of finding the particle between L/3 and L/2 for the ground state (n = 1) and for the first excited state (n = 2)? Let L = 1. Perform the integral using both scipy.integrate.trapz and scipy.integrate.quad with an accuracy of 6 sig figs. How many slices did you need to use for scipy.integrate.trapz?"
     ]
    },
    {
     "cell_type": "code",
     "collapsed": false,
     "input": [
      "#help(lambda)"
     ],
     "language": "python",
     "metadata": {},
     "outputs": [],
     "prompt_number": 46
    },
    {
     "cell_type": "heading",
     "level": 3,
     "metadata": {},
     "source": [
      "Ground State"
     ]
    },
    {
     "cell_type": "code",
     "collapsed": false,
     "input": [
      "#Ground state:\n",
      "x = np.arange(1./3.,1./2.,.0000005)\n",
      "psi = np.sqrt(2)*sin(np.pi*x)\n",
      "\n",
      "#limits = 1/3, 1/2, since setting L = 1\n",
      "\n",
      "psi2 = np.abs(psi)**2\n",
      "\n",
      "result1 = integrate.trapz(psi2,x)\n",
      "\n",
      "fun = lambda x1 : 2*np.abs(sin(np.pi*x1))**2\n",
      "\n",
      "result2, error = integrate.quad(fun,1./3.,1./2.)\n",
      "\n",
      "print \"Using trapz,\", result1\n",
      "print \"Using quad, \", result2, error"
     ],
     "language": "python",
     "metadata": {},
     "outputs": [
      {
       "output_type": "stream",
       "stream": "stdout",
       "text": [
        "Using trapz, 0.304498557198\n",
        "Using quad,  0.304498890522 3.3806167923e-15\n"
       ]
      }
     ],
     "prompt_number": 45
    },
    {
     "cell_type": "heading",
     "level": 3,
     "metadata": {},
     "source": [
      "Excited State, n = 2"
     ]
    },
    {
     "cell_type": "markdown",
     "metadata": {},
     "source": [
      "(b) Make a plot of |\u03c8(x)|2 vs. x for the first two excited states with L=1."
     ]
    },
    {
     "cell_type": "code",
     "collapsed": false,
     "input": [
      "x = np.arange(1./3.,1./2.,.0000005)\n",
      "psiN2 = np.sqrt(2)*sin(2*np.pi*x)\n",
      "\n",
      "psiN3 = np.sqrt(2)*sin(3*np.pi*x)\n",
      "\n",
      "#limits = 1/3, 1/2, since setting L = 1\n",
      "\n",
      "psiN2_2 = np.abs(psiN2)**2\n",
      "\n",
      "psiN3_2 = np.abs(psiN3)**2\n",
      "\n",
      "plt.plot(psiN2_2,x, label = \"N=2\")\n",
      "plt.plot(psiN3_2,x, label = \"N=3\")\n",
      "plt.xlabel(r'$x$',fontsize = 20)\n",
      "plt.ylabel(r'$abs(Psi)^2$')"
     ],
     "language": "python",
     "metadata": {},
     "outputs": [
      {
       "metadata": {},
       "output_type": "pyout",
       "prompt_number": 48,
       "text": [
        "<matplotlib.text.Text at 0x10696c910>"
       ]
      },
      {
       "metadata": {},
       "output_type": "display_data",
       "png": "[encoded data removed]",
       "text": [
        "<matplotlib.figure.Figure at 0x10691ff50>"
       ]
      }
     ],
     "prompt_number": 48
    },
    {
     "cell_type": "heading",
     "level": 2,
     "metadata": {},
     "source": [
      "Question 4"
     ]
    },
    {
     "cell_type": "markdown",
     "metadata": {},
     "source": [
      "Integrals of mass density lead to three interesting quantities:\n",
      "M=\u222b\u03c1dVr\u20d7 cm=(xcm,ycm,zcm)=1M\u222br\u20d7 \u03c1dVIcm=\u222b(r\u2212rcm)2\u03c1dV\n",
      "where M is the total mass (a scalar), r\u20d7 cm is the center of mass position (a vector of 3 components), Icm are the moments of inertia about the center of mass (diagonals of a 3x3 matrix), and the mass density, \u03c1, may be a function of the spatial variables.\n",
      "Consider a rectangular box: length (in x) = 0.2 m, width (in y) = 0.2 m, and height (in z) = 1.0 m centered on the origin, (0,0,0) and with a mass density, \u03c1(x,y,z) = (100 kg/m4)(y + 0.1) + (100 kg/m5)z2 for x, y, and z in meters.\n",
      "\n",
      "(a) Use numerical integration to find M, r\u20d7 cm, and Icm. Note that you need M to compute r\u20d7 cm and r\u20d7 cm to compute Icm. The moments of inertia Icm are Ixx, Iyy, and Izz, where e.g. Ixx=\u222b((y\u2212ycm)2+(z\u2212zcm)2)\u03c1dV, etc."
     ]
    },
    {
     "cell_type": "code",
     "collapsed": false,
     "input": [
      "from scipy.integrate import tplquad\n",
      "\n",
      "p = lambda z,y,x: 100*(y + 0.1) + 100*(z**2)\n",
      "\n",
      "xmin = -0.1\n",
      "xmax = 0.1\n",
      "\n",
      "ymin = lambda x: -0.1\n",
      "ymax = lambda x: 0.1\n",
      "\n",
      "zmin = lambda x,y: -0.5\n",
      "zmax = lambda x,y: 0.5\n",
      "\n",
      "M, err = tplquad(p, xmin, xmax, ymin, ymax, zmin, zmax)\n",
      "\n",
      "rxI = lambda z,y,x: x*(100*(y + 0.1) + 100*(z**2))\n",
      "ryI = lambda z,y,x: y*(100*(y + 0.1) + 100*(z**2))\n",
      "rzI = lambda z,y,x: z*(100*(y + 0.1) + 100*(z**2))\n",
      "\n",
      "print \"Mass: \", M\n",
      "\n",
      "rx = tplquad(rxI, xmin, xmax, ymin, ymax, zmin, zmax)[0]/float(M)\n",
      "ry = tplquad(ryI, xmin, xmax, ymin, ymax, zmin, zmax)[0]/float(M)\n",
      "rz = tplquad(rzI, xmin, xmax, ymin, ymax, zmin, zmax)[0]/float(M)\n",
      "\n",
      "print \"Center of mass: \",(rx, ry, rz)\n",
      "\n",
      "rcm = [rx, ry, rz]\n",
      "\n",
      "yy = lambda z,y,x: ((x-rx)**2 + (z - rz)**2)*(100*(y + 0.1) + 100*(z**2))\n",
      "zz = lambda z,y,x: ((x-rx)**2 + (y - ry)**2)*(100*(y + 0.1) + 100*(z**2))\n",
      "xx = lambda z,y,x: ((y-ry)**2 + (z - rz)**2)*(100*(y + 0.1) + 100*(z**2))\n",
      "\n",
      "Iyy = tplquad(yy, xmin, xmax, ymin, ymax, zmin, zmax)[0]\n",
      "Ixx = tplquad(xx, xmin, xmax, ymin, ymax, zmin, zmax)[0]\n",
      "Izz = tplquad(zz, xmin, xmax, ymin, ymax, zmin, zmax)[0]\n",
      "\n",
      "print \"Iyy = \", Iyy\n",
      "print \"Izz = \", Izz\n",
      "print \"Ixx = \", Ixx"
     ],
     "language": "python",
     "metadata": {},
     "outputs": [
      {
       "output_type": "stream",
       "stream": "stdout",
       "text": [
        "Mass:  0.733333333333\n",
        "Center of mass:  (0.0, 0.018181818181818184, 0.0)\n",
        "Iyy = "
       ]
      },
      {
       "output_type": "stream",
       "stream": "stdout",
       "text": [
        " 0.0857777777778\n",
        "Izz =  0.00464646464646\n",
        "Ixx =  0.0855353535354\n"
       ]
      }
     ],
     "prompt_number": 64
    },
    {
     "cell_type": "markdown",
     "metadata": {},
     "source": [
      "(b) The mass, center of mass, and moments of inertia can be easily computed analytically for a rectangular box of uniform density. (Compute them yourself or look them up). Verify your algorithm from part (a) works by having it compute the result for this test case. How accurate (how many sig figs?) is the numerical result?"
     ]
    },
    {
     "cell_type": "code",
     "collapsed": false,
     "input": [
      "#Constant (uniform) density:\n",
      "print \"Algorithm: \"\n",
      "p = lambda z,y,x: 1\n",
      "\n",
      "M = tplquad(p, xmin, xmax, ymin, ymax, zmin, zmax)[0]\n",
      "\n",
      "print \"Mass: M\"\n",
      "\n",
      "rxI = lambda z,y,x: x\n",
      "ryI = lambda z,y,x: y\n",
      "rzI = lambda z,y,x: z\n",
      "\n",
      "rx = tplquad(rxI, xmin, xmax, ymin, ymax, zmin, zmax)[0]\n",
      "ry = tplquad(ryI, xmin, xmax, ymin, ymax, zmin, zmax)[0]\n",
      "rz = tplquad(rzI, xmin, xmax, ymin, ymax, zmin, zmax)[0]\n",
      "\n",
      "print \"Center of Mass: (%s, %s, %s)\" % (rx,ry,rz)\n",
      "\n",
      "xx = lambda z,y,x: (y-ry)**2 + (z - rz)**2\n",
      "yy = lambda z,y,x: (x-rx)**2 + (z - rz)**2\n",
      "zz = lambda z,y,x: (y-ry)**2 + (x - rx)**2\n",
      "\n",
      "Iyy = tplquad(yy, xmin, xmax, ymin, ymax, zmin, zmax)[0]\n",
      "Ixx = tplquad(xx, xmin, xmax, ymin, ymax, zmin, zmax)[0]\n",
      "Izz = tplquad(zz, xmin, xmax, ymin, ymax, zmin, zmax)[0]\n",
      "\n",
      "print \"Iyy = \", Iyy\n",
      "print \"Izz = \", Izz\n",
      "print \"Ixx = \", Ixx\n",
      "\n",
      "print \"Known: \""
     ],
     "language": "python",
     "metadata": {},
     "outputs": [
      {
       "output_type": "stream",
       "stream": "stdout",
       "text": [
        "Algorithm: \n",
        "Mass: M\n",
        "Center of Mass: (0.0, 0.0, 0.0)\n",
        "Iyy = "
       ]
      },
      {
       "output_type": "stream",
       "stream": "stdout",
       "text": [
        " 0.00346666666667\n",
        "Izz =  0.000266666666667\n",
        "Ixx =  0.00346666666667\n",
        "Known: \n"
       ]
      }
     ],
     "prompt_number": 73
    },
    {
     "cell_type": "code",
     "collapsed": false,
     "input": [],
     "language": "python",
     "metadata": {},
     "outputs": []
    }
   ],
   "metadata": {}
  }
 ]
}