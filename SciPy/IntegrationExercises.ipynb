{
 "metadata": {
  "name": "",
  "signature": "sha256:b3c0cd08aa4c99b7e3154c2a268d04a8705cd360924da15b308f831e44a079b4"
 },
 "nbformat": 3,
 "nbformat_minor": 0,
 "worksheets": [
  {
   "cells": [
    {
     "cell_type": "heading",
     "level": 1,
     "metadata": {},
     "source": [
      "Integration Exercises"
     ]
    },
    {
     "cell_type": "heading",
     "level": 2,
     "metadata": {},
     "source": [
      "Question 1"
     ]
    },
    {
     "cell_type": "markdown",
     "metadata": {},
     "source": [
      "Question 1\n",
      "(a) Write two functions trapz(func,a,b,N) and simps(func,a,b,N) to compute the integral of the function func over the variable x using the trapezoidal rule and Simpson's rule to a file called Integrators.py. Do not use the scipy.integrate built-in functions. Include docstrings with each function that describe what they do. Then import the module and use the functions to answer the following questions. To avoid namespace conflicts, import your module as myint and then call the functions from that namespace. i.e.\n",
      "    import integrators as myint\n",
      "    #...your code...here\n",
      "    I = myint.trapz(func,a,b,N)\n",
      "Also, be sure that you import any needed modules inside your Integrators.py file."
     ]
    },
    {
     "cell_type": "code",
     "collapsed": false,
     "input": [
      "%pylab inline\n",
      "import numpy as np\n",
      "import matplotlib.pyplot as plt"
     ],
     "language": "python",
     "metadata": {},
     "outputs": [
      {
       "output_type": "stream",
       "stream": "stdout",
       "text": [
        "Populating the interactive namespace from numpy and matplotlib\n"
       ]
      }
     ],
     "prompt_number": 6
    },
    {
     "cell_type": "code",
     "collapsed": false,
     "input": [
      "%%file Integrators.py \n",
      "\n",
      "import numpy as np\n",
      "\n",
      "def trapz(func, a, b, N):\n",
      "    \"\"\"This function finds the integral of (area under) the function\n",
      "    passed, on the interval passed from a to b, with N subdivisions\n",
      "    of equal length. The total area is thus the sum of the areas\n",
      "    of N - 1 trapezoidal subdivisions.\n",
      "    \"\"\"\n",
      "    h = (b-a)/N\n",
      "    k = np.arange(1,N)\n",
      "    I = h*(0.5*func(a) + 0.5*func(b) + func(a+k*h).sum())\n",
      "\n",
      "    return I\n",
      "\n",
      "def simps(func, a, b, N):\n",
      "    \"\"\"This function computes the integral of the function passed\n",
      "    on the interval passed (from a to b) with N subdivisions. \n",
      "    This method of integration involves representing the area of\n",
      "    each subdivision by it's 'height', given by the passed function's\n",
      "    output at each subdivision's bound on the domain.\n",
      "    \"\"\"\n",
      "    h = (b-a)/N\n",
      "    k1 = np.arange(1,N/2+1)\n",
      "    k2 = np.arange(1,N/2)\n",
      "    I = (1./3.)*h*(func(a) + func(b) + 4.*func(a+(2*k1-1)*h).sum() + 2.*func(a+2*k2*h).sum())\n",
      "    \n",
      "    return I\n",
      "    \n",
      "\n",
      "\n"
     ],
     "language": "python",
     "metadata": {},
     "outputs": [
      {
       "output_type": "stream",
       "stream": "stdout",
       "text": [
        "Overwriting Integrators.py\n"
       ]
      }
     ],
     "prompt_number": 7
    },
    {
     "cell_type": "code",
     "collapsed": false,
     "input": [
      "#%pylab inline\n",
      "#import numpy as np\n",
      "#import matplotlib.pyplot as plt\n",
      "\n",
      "import Integrators as myint\n",
      "func = lambda x: x**4 - 2*x +1\n",
      "\n",
      "#def func(x):\n",
      "    #return x**4 - 2*x + 1\n",
      "\n",
      "a = 0.\n",
      "b = 2.\n",
      "N = 10\n",
      "I1 = 0\n",
      "I2 = 0\n",
      "for i in range(3):\n",
      "    I1 = myint.trapz(func, a, b, N*10**i)\n",
      "    I2 = myint.simps(func, a, b, N*10**i)\n",
      "    \n",
      "    print \"For N = \", N**i, \", Traps yields: \", I1\n",
      "    print \"For N = \", N**i, \", Simps yields: \", I2\n"
     ],
     "language": "python",
     "metadata": {},
     "outputs": [
      {
       "output_type": "stream",
       "stream": "stdout",
       "text": [
        "For N =  1 , Traps yields:  4.50656\n",
        "For N =  1 , Simps yields:  4.40042666667\n",
        "For N =  10 , Traps yields:  4.401066656\n",
        "For N =  10 , Simps yields:  4.40000004267\n",
        "For N =  100 , Traps yields:  4.40001066667\n",
        "For N =  100 , Simps yields:  4.4\n"
       ]
      }
     ],
     "prompt_number": 9
    },
    {
     "cell_type": "code",
     "collapsed": false,
     "input": [],
     "language": "python",
     "metadata": {},
     "outputs": []
    },
    {
     "cell_type": "code",
     "collapsed": false,
     "input": [],
     "language": "python",
     "metadata": {},
     "outputs": []
    }
   ],
   "metadata": {}
  }
 ]
}