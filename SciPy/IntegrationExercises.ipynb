{
 "metadata": {
  "name": "",
  "signature": "sha256:92d79a009f892d04bf05877d885c45730846fb9fe8ecf92d6efd1fcd28911824"
 },
 "nbformat": 3,
 "nbformat_minor": 0,
 "worksheets": [
  {
   "cells": [
    {
     "cell_type": "heading",
     "level": 1,
     "metadata": {},
     "source": [
      "Integration Exercises"
     ]
    },
    {
     "cell_type": "heading",
     "level": 2,
     "metadata": {},
     "source": [
      "Question 1"
     ]
    },
    {
     "cell_type": "markdown",
     "metadata": {},
     "source": [
      "Question 1\n",
      "(a) Write two functions trapz(func,a,b,N) and simps(func,a,b,N) to compute the integral of the function func over the variable x using the trapezoidal rule and Simpson's rule to a file called Integrators.py. Do not use the scipy.integrate built-in functions. Include docstrings with each function that describe what they do. Then import the module and use the functions to answer the following questions. To avoid namespace conflicts, import your module as myint and then call the functions from that namespace. i.e.\n",
      "    import integrators as myint\n",
      "    #...your code...here\n",
      "    I = myint.trapz(func,a,b,N)\n",
      "Also, be sure that you import any needed modules inside your Integrators.py file."
     ]
    },
    {
     "cell_type": "code",
     "collapsed": false,
     "input": [
      "%pylab inline\n",
      "import numpy as np\n",
      "import matplotlib.pyplot as plt"
     ],
     "language": "python",
     "metadata": {},
     "outputs": [
      {
       "output_type": "stream",
       "stream": "stdout",
       "text": [
        "Populating the interactive namespace from numpy and matplotlib\n"
       ]
      }
     ],
     "prompt_number": 14
    },
    {
     "cell_type": "code",
     "collapsed": false,
     "input": [
      "%%file Integrators.py \n",
      "\n",
      "import numpy as np\n",
      "\n",
      "def trapz(func, a, b, N):\n",
      "    \"\"\"This function finds the integral of (area under) the function\n",
      "    passed, on the interval passed from a to b, with N subdivisions\n",
      "    of equal length. The total area is thus the sum of the areas\n",
      "    of N - 1 trapezoidal subdivisions.\n",
      "    \"\"\"\n",
      "    h = (b-a)/N\n",
      "    k = np.arange(1,N)\n",
      "    I = h*(0.5*func(a) + 0.5*func(b) + func(a+k*h).sum())\n",
      "\n",
      "    return I\n",
      "\n",
      "def simps(func, a, b, N):\n",
      "    \"\"\"This function computes the integral of the function passed\n",
      "    on the interval passed (from a to b) with N subdivisions. \n",
      "    This method of integration involves representing the area of\n",
      "    each subdivision by it's 'height', given by the passed function's\n",
      "    output at each subdivision's bound on the domain.\n",
      "    \"\"\"\n",
      "    h = (b-a)/N\n",
      "    k1 = np.arange(1,N/2+1)\n",
      "    k2 = np.arange(1,N/2)\n",
      "    I = (1./3.)*h*(func(a) + func(b) + 4.*func(a+(2*k1-1)*h).sum() + 2.*func(a+2*k2*h).sum())\n",
      "    \n",
      "    return I\n",
      "    \n",
      "\n",
      "\n"
     ],
     "language": "python",
     "metadata": {},
     "outputs": [
      {
       "output_type": "stream",
       "stream": "stdout",
       "text": [
        "Overwriting Integrators.py\n"
       ]
      }
     ],
     "prompt_number": 15
    },
    {
     "cell_type": "markdown",
     "metadata": {},
     "source": [
      "\n",
      "(b) Use your trapz and simps functions from part (a) to calculate the integral of x4\u22122x+1 from x = 0 to x = 2 with N = 10, N = 100, and N = 1000. Then compare your result to the known correct value of 4.4. What is the percent error in each case?"
     ]
    },
    {
     "cell_type": "code",
     "collapsed": false,
     "input": [
      "#%pylab inline\n",
      "#import numpy as np\n",
      "#import matplotlib.pyplot as plt\n",
      "\n",
      "import Integrators as myint\n",
      "func = lambda x: x**4 - 2*x +1\n",
      "\n",
      "#def func(x):\n",
      "    #return x**4 - 2*x + 1\n",
      "\n",
      "a = 0.\n",
      "b = 2.\n",
      "N = 10\n",
      "I1 = 0\n",
      "I2 = 0\n",
      "for i in range(3):\n",
      "    I1 = myint.trapz(func, a, b, N*10**i)\n",
      "    I2 = myint.simps(func, a, b, N*10**i)\n",
      "    \n",
      "    print \"For N = \", N**i, \", Traps yields: \", I1\n",
      "    print \"For N = \", N**i, \", Simps yields: \", I2\n"
     ],
     "language": "python",
     "metadata": {},
     "outputs": [
      {
       "output_type": "stream",
       "stream": "stdout",
       "text": [
        "For N =  1 , Traps yields:  4.50656\n",
        "For N =  1 , Simps yields:  4.40042666667\n",
        "For N =  10 , Traps yields:  4.401066656\n",
        "For N =  10 , Simps yields:  4.40000004267\n",
        "For N =  100 , Traps yields:  4.40001066667\n",
        "For N =  100 , Simps yields:  4.4\n"
       ]
      }
     ],
     "prompt_number": 16
    },
    {
     "cell_type": "heading",
     "level": 2,
     "metadata": {},
     "source": [
      "Question 2"
     ]
    },
    {
     "cell_type": "markdown",
     "metadata": {},
     "source": [
      "Consider the integral\n",
      "E(x)=\u222bx0e\u2212t2dt\n",
      "This is the error function, commonly seen in probability and statistics. There is no known way to perform this particular integral analytically, although the integrand can be expanded in a Taylor series and terms computed to arbitrary order. For most applications, numerical approaches are the only way forward.\n",
      "\n",
      "(a) Use scipy.integrate.cumtrapz to calculate E(x) for values of x from 0 to 3 in steps of 0.1. Print the result."
     ]
    },
    {
     "cell_type": "code",
     "collapsed": false,
     "input": [
      "import scipy.integrate as integrate\n",
      "help(integrate.cumtrapz)"
     ],
     "language": "python",
     "metadata": {},
     "outputs": [
      {
       "output_type": "stream",
       "stream": "stdout",
       "text": [
        "Help on function cumtrapz in module scipy.integrate.quadrature:\n",
        "\n",
        "cumtrapz(y, x=None, dx=1.0, axis=-1, initial=None)\n",
        "    Cumulatively integrate y(x) using the composite trapezoidal rule.\n",
        "    \n",
        "    Parameters\n",
        "    ----------\n",
        "    y : array_like\n",
        "        Values to integrate.\n",
        "    x : array_like, optional\n",
        "        The coordinate to integrate along.  If None (default), use spacing `dx`\n",
        "        between consecutive elements in `y`.\n",
        "    dx : int, optional\n",
        "        Spacing between elements of `y`.  Only used if `x` is None.\n",
        "    axis : int, optional\n",
        "        Specifies the axis to cumulate.  Default is -1 (last axis).\n",
        "    initial : scalar, optional\n",
        "        If given, uses this value as the first value in the returned result.\n",
        "        Typically this value should be 0.  Default is None, which means no\n",
        "        value at ``x[0]`` is returned and `res` has one element less than `y`\n",
        "        along the axis of integration.\n",
        "    \n",
        "    Returns\n",
        "    -------\n",
        "    res : ndarray\n",
        "        The result of cumulative integration of `y` along `axis`.\n",
        "        If `initial` is None, the shape is such that the axis of integration\n",
        "        has one less value than `y`.  If `initial` is given, the shape is equal\n",
        "        to that of `y`.\n",
        "    \n",
        "    See Also\n",
        "    --------\n",
        "    numpy.cumsum, numpy.cumprod\n",
        "    quad: adaptive quadrature using QUADPACK\n",
        "    romberg: adaptive Romberg quadrature\n",
        "    quadrature: adaptive Gaussian quadrature\n",
        "    fixed_quad: fixed-order Gaussian quadrature\n",
        "    dblquad: double integrals\n",
        "    tplquad: triple integrals\n",
        "    romb: integrators for sampled data\n",
        "    ode: ODE integrators\n",
        "    odeint: ODE integrators\n",
        "    \n",
        "    Examples\n",
        "    --------\n",
        "    >>> from scipy import integrate\n",
        "    >>> import matplotlib.pyplot as plt\n",
        "    \n",
        "    >>> x = np.linspace(-2, 2, num=20)\n",
        "    >>> y = x\n",
        "    >>> y_int = integrate.cumtrapz(y, x, initial=0)\n",
        "    >>> plt.plot(x, y_int, 'ro', x, y[0] + 0.5 * x**2, 'b-')\n",
        "    >>> plt.show()\n",
        "\n"
       ]
      }
     ],
     "prompt_number": 17
    },
    {
     "cell_type": "code",
     "collapsed": false,
     "input": [
      "fun = lambda t: exp(-t**2)\n",
      "\n",
      "t = np.arange(0,3,0.1)\n",
      "result = integrate.cumtrapz(fun, t)\n",
      "\n",
      "print result\n"
     ],
     "language": "python",
     "metadata": {},
     "outputs": [
      {
       "ename": "IndexError",
       "evalue": "list assignment index out of range",
       "output_type": "pyerr",
       "traceback": [
        "\u001b[0;31m---------------------------------------------------------------------------\u001b[0m\n\u001b[0;31mIndexError\u001b[0m                                Traceback (most recent call last)",
        "\u001b[0;32m<ipython-input-19-fcb55a664af1>\u001b[0m in \u001b[0;36m<module>\u001b[0;34m()\u001b[0m\n\u001b[1;32m      2\u001b[0m \u001b[0;34m\u001b[0m\u001b[0m\n\u001b[1;32m      3\u001b[0m \u001b[0mt\u001b[0m \u001b[0;34m=\u001b[0m \u001b[0mnp\u001b[0m\u001b[0;34m.\u001b[0m\u001b[0marange\u001b[0m\u001b[0;34m(\u001b[0m\u001b[0;36m0\u001b[0m\u001b[0;34m,\u001b[0m\u001b[0;36m3\u001b[0m\u001b[0;34m,\u001b[0m\u001b[0;36m0.1\u001b[0m\u001b[0;34m)\u001b[0m\u001b[0;34m\u001b[0m\u001b[0m\n\u001b[0;32m----> 4\u001b[0;31m \u001b[0mresult\u001b[0m \u001b[0;34m=\u001b[0m \u001b[0mintegrate\u001b[0m\u001b[0;34m.\u001b[0m\u001b[0mcumtrapz\u001b[0m\u001b[0;34m(\u001b[0m\u001b[0mfun\u001b[0m\u001b[0;34m,\u001b[0m \u001b[0mt\u001b[0m\u001b[0;34m)\u001b[0m\u001b[0;34m\u001b[0m\u001b[0m\n\u001b[0m\u001b[1;32m      5\u001b[0m \u001b[0;34m\u001b[0m\u001b[0m\n\u001b[1;32m      6\u001b[0m \u001b[0;32mprint\u001b[0m \u001b[0mresult\u001b[0m\u001b[0;34m\u001b[0m\u001b[0m\n",
        "\u001b[0;32m/Applications/anaconda/lib/python2.7/site-packages/scipy/integrate/quadrature.pyc\u001b[0m in \u001b[0;36mcumtrapz\u001b[0;34m(y, x, dx, axis, initial)\u001b[0m\n\u001b[1;32m    247\u001b[0m \u001b[0;34m\u001b[0m\u001b[0m\n\u001b[1;32m    248\u001b[0m     \u001b[0mnd\u001b[0m \u001b[0;34m=\u001b[0m \u001b[0mlen\u001b[0m\u001b[0;34m(\u001b[0m\u001b[0my\u001b[0m\u001b[0;34m.\u001b[0m\u001b[0mshape\u001b[0m\u001b[0;34m)\u001b[0m\u001b[0;34m\u001b[0m\u001b[0m\n\u001b[0;32m--> 249\u001b[0;31m     \u001b[0mslice1\u001b[0m \u001b[0;34m=\u001b[0m \u001b[0mtupleset\u001b[0m\u001b[0;34m(\u001b[0m\u001b[0;34m(\u001b[0m\u001b[0mslice\u001b[0m\u001b[0;34m(\u001b[0m\u001b[0mNone\u001b[0m\u001b[0;34m)\u001b[0m\u001b[0;34m,\u001b[0m\u001b[0;34m)\u001b[0m\u001b[0;34m*\u001b[0m\u001b[0mnd\u001b[0m\u001b[0;34m,\u001b[0m \u001b[0maxis\u001b[0m\u001b[0;34m,\u001b[0m \u001b[0mslice\u001b[0m\u001b[0;34m(\u001b[0m\u001b[0;36m1\u001b[0m\u001b[0;34m,\u001b[0m \u001b[0mNone\u001b[0m\u001b[0;34m)\u001b[0m\u001b[0;34m)\u001b[0m\u001b[0;34m\u001b[0m\u001b[0m\n\u001b[0m\u001b[1;32m    250\u001b[0m     \u001b[0mslice2\u001b[0m \u001b[0;34m=\u001b[0m \u001b[0mtupleset\u001b[0m\u001b[0;34m(\u001b[0m\u001b[0;34m(\u001b[0m\u001b[0mslice\u001b[0m\u001b[0;34m(\u001b[0m\u001b[0mNone\u001b[0m\u001b[0;34m)\u001b[0m\u001b[0;34m,\u001b[0m\u001b[0;34m)\u001b[0m\u001b[0;34m*\u001b[0m\u001b[0mnd\u001b[0m\u001b[0;34m,\u001b[0m \u001b[0maxis\u001b[0m\u001b[0;34m,\u001b[0m \u001b[0mslice\u001b[0m\u001b[0;34m(\u001b[0m\u001b[0mNone\u001b[0m\u001b[0;34m,\u001b[0m \u001b[0;34m-\u001b[0m\u001b[0;36m1\u001b[0m\u001b[0;34m)\u001b[0m\u001b[0;34m)\u001b[0m\u001b[0;34m\u001b[0m\u001b[0m\n\u001b[1;32m    251\u001b[0m     \u001b[0mres\u001b[0m \u001b[0;34m=\u001b[0m \u001b[0madd\u001b[0m\u001b[0;34m.\u001b[0m\u001b[0maccumulate\u001b[0m\u001b[0;34m(\u001b[0m\u001b[0md\u001b[0m \u001b[0;34m*\u001b[0m \u001b[0;34m(\u001b[0m\u001b[0my\u001b[0m\u001b[0;34m[\u001b[0m\u001b[0mslice1\u001b[0m\u001b[0;34m]\u001b[0m \u001b[0;34m+\u001b[0m \u001b[0my\u001b[0m\u001b[0;34m[\u001b[0m\u001b[0mslice2\u001b[0m\u001b[0;34m]\u001b[0m\u001b[0;34m)\u001b[0m \u001b[0;34m/\u001b[0m \u001b[0;36m2.0\u001b[0m\u001b[0;34m,\u001b[0m \u001b[0maxis\u001b[0m\u001b[0;34m)\u001b[0m\u001b[0;34m\u001b[0m\u001b[0m\n",
        "\u001b[0;32m/Applications/anaconda/lib/python2.7/site-packages/scipy/integrate/quadrature.pyc\u001b[0m in \u001b[0;36mtupleset\u001b[0;34m(t, i, value)\u001b[0m\n\u001b[1;32m    182\u001b[0m \u001b[0;32mdef\u001b[0m \u001b[0mtupleset\u001b[0m\u001b[0;34m(\u001b[0m\u001b[0mt\u001b[0m\u001b[0;34m,\u001b[0m \u001b[0mi\u001b[0m\u001b[0;34m,\u001b[0m \u001b[0mvalue\u001b[0m\u001b[0;34m)\u001b[0m\u001b[0;34m:\u001b[0m\u001b[0;34m\u001b[0m\u001b[0m\n\u001b[1;32m    183\u001b[0m     \u001b[0ml\u001b[0m \u001b[0;34m=\u001b[0m \u001b[0mlist\u001b[0m\u001b[0;34m(\u001b[0m\u001b[0mt\u001b[0m\u001b[0;34m)\u001b[0m\u001b[0;34m\u001b[0m\u001b[0m\n\u001b[0;32m--> 184\u001b[0;31m     \u001b[0ml\u001b[0m\u001b[0;34m[\u001b[0m\u001b[0mi\u001b[0m\u001b[0;34m]\u001b[0m \u001b[0;34m=\u001b[0m \u001b[0mvalue\u001b[0m\u001b[0;34m\u001b[0m\u001b[0m\n\u001b[0m\u001b[1;32m    185\u001b[0m     \u001b[0;32mreturn\u001b[0m \u001b[0mtuple\u001b[0m\u001b[0;34m(\u001b[0m\u001b[0ml\u001b[0m\u001b[0;34m)\u001b[0m\u001b[0;34m\u001b[0m\u001b[0m\n\u001b[1;32m    186\u001b[0m \u001b[0;34m\u001b[0m\u001b[0m\n",
        "\u001b[0;31mIndexError\u001b[0m: list assignment index out of range"
       ]
      }
     ],
     "prompt_number": 19
    },
    {
     "cell_type": "code",
     "collapsed": false,
     "input": [],
     "language": "python",
     "metadata": {},
     "outputs": []
    }
   ],
   "metadata": {}
  }
 ]
}