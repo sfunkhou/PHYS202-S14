{
 "metadata": {
  "name": "",
  "signature": "sha256:027f9f9b2d921e493bf23d42b5d259971d578b0b598c9d1bc15a0c9d196aa0f0"
 },
 "nbformat": 3,
 "nbformat_minor": 0,
 "worksheets": [
  {
   "cells": [
    {
     "cell_type": "heading",
     "level": 1,
     "metadata": {},
     "source": [
      "Monte Carlo Integration Exercises"
     ]
    },
    {
     "cell_type": "heading",
     "level": 2,
     "metadata": {},
     "source": [
      "Question 1"
     ]
    },
    {
     "cell_type": "code",
     "collapsed": false,
     "input": [
      "%pylab\n",
      "import numpy as np\n",
      "import matplotlib.pyplot as plt"
     ],
     "language": "python",
     "metadata": {},
     "outputs": [
      {
       "output_type": "stream",
       "stream": "stdout",
       "text": [
        "Using matplotlib backend: MacOSX\n",
        "Populating the interactive namespace from numpy and matplotlib\n"
       ]
      }
     ],
     "prompt_number": 2
    },
    {
     "cell_type": "code",
     "collapsed": false,
     "input": [
      "from Electrostatics import *"
     ],
     "language": "python",
     "metadata": {},
     "outputs": [],
     "prompt_number": 3
    },
    {
     "cell_type": "markdown",
     "metadata": {},
     "source": [
      "(a) Use the sample mean method to compute the potential at point P(2,3) due to the disk of charge for different numbers of samples N=(101,102,103,104,105,106). Report the value and its statistical uncertainty for each sample size. How does the result depend on N?"
     ]
    },
    {
     "cell_type": "code",
     "collapsed": false,
     "input": [
      "# dQ = sigma * dA\n",
      "sigma = 1. #microC/m^2\n",
      "dQ = lambda x,y: sigma\n",
      "xa = -1.\n",
      "xb = 1.\n",
      "ya = 0.\n",
      "yb = 2.\n",
      "\n",
      "print \"Charges measured in microCoulombs: \"\n",
      "for i in range(1,7):\n",
      "    x = (xb - xa)*np.random.random_sample(10**i)\n",
      "    y = (yb - ya)*np.random.random_sample(10**i)\n",
      "    \n",
      "    Q = (xb - xa)*(yb - ya)*dQ(x,y).mean()\n",
      "    q = pointPotential(x,y,Q,2.,3.)\n",
      "    print \"For 10^%s random samples, point potentail at (x,y) = (2.,3.),\" %(i)\n",
      "    print \"due to a rectangular plane of constant charge density 1 microC/m^2 is: \"\n",
      "    print q"
     ],
     "language": "python",
     "metadata": {},
     "outputs": [
      {
       "output_type": "stream",
       "stream": "stdout",
       "text": [
        "Charges measured in microCoulombs: \n"
       ]
      },
      {
       "ename": "AttributeError",
       "evalue": "'float' object has no attribute 'mean'",
       "output_type": "pyerr",
       "traceback": [
        "\u001b[0;31m---------------------------------------------------------------------------\u001b[0m\n\u001b[0;31mAttributeError\u001b[0m                            Traceback (most recent call last)",
        "\u001b[0;32m<ipython-input-14-509bc138f0e3>\u001b[0m in \u001b[0;36m<module>\u001b[0;34m()\u001b[0m\n\u001b[1;32m     12\u001b[0m     \u001b[0my\u001b[0m \u001b[0;34m=\u001b[0m \u001b[0;34m(\u001b[0m\u001b[0myb\u001b[0m \u001b[0;34m-\u001b[0m \u001b[0mya\u001b[0m\u001b[0;34m)\u001b[0m\u001b[0;34m*\u001b[0m\u001b[0mnp\u001b[0m\u001b[0;34m.\u001b[0m\u001b[0mrandom\u001b[0m\u001b[0;34m.\u001b[0m\u001b[0mrandom_sample\u001b[0m\u001b[0;34m(\u001b[0m\u001b[0;36m10\u001b[0m\u001b[0;34m**\u001b[0m\u001b[0mi\u001b[0m\u001b[0;34m)\u001b[0m\u001b[0;34m\u001b[0m\u001b[0m\n\u001b[1;32m     13\u001b[0m \u001b[0;34m\u001b[0m\u001b[0m\n\u001b[0;32m---> 14\u001b[0;31m     \u001b[0mQ\u001b[0m \u001b[0;34m=\u001b[0m \u001b[0;34m(\u001b[0m\u001b[0mxb\u001b[0m \u001b[0;34m-\u001b[0m \u001b[0mxa\u001b[0m\u001b[0;34m)\u001b[0m\u001b[0;34m*\u001b[0m\u001b[0;34m(\u001b[0m\u001b[0myb\u001b[0m \u001b[0;34m-\u001b[0m \u001b[0mya\u001b[0m\u001b[0;34m)\u001b[0m\u001b[0;34m*\u001b[0m\u001b[0mdQ\u001b[0m\u001b[0;34m(\u001b[0m\u001b[0mx\u001b[0m\u001b[0;34m,\u001b[0m\u001b[0my\u001b[0m\u001b[0;34m)\u001b[0m\u001b[0;34m.\u001b[0m\u001b[0mmean\u001b[0m\u001b[0;34m(\u001b[0m\u001b[0;34m)\u001b[0m\u001b[0;34m\u001b[0m\u001b[0m\n\u001b[0m\u001b[1;32m     15\u001b[0m     \u001b[0;31m#q = pointPotential(x,y,Q,2.,3.)\u001b[0m\u001b[0;34m\u001b[0m\u001b[0;34m\u001b[0m\u001b[0m\n\u001b[1;32m     16\u001b[0m     \u001b[0;32mprint\u001b[0m \u001b[0;34m\"For 10^%s random samples, point potentail at (x,y) = (2.,3.),\"\u001b[0m \u001b[0;34m%\u001b[0m\u001b[0;34m(\u001b[0m\u001b[0mi\u001b[0m\u001b[0;34m)\u001b[0m\u001b[0;34m\u001b[0m\u001b[0m\n",
        "\u001b[0;31mAttributeError\u001b[0m: 'float' object has no attribute 'mean'"
       ]
      }
     ],
     "prompt_number": 14
    },
    {
     "cell_type": "markdown",
     "metadata": {},
     "source": [
      "(b) Now use the same method to compute the electric potential, V, at point P(2,3), from a disk centered on the origin with radius, R=1.2 m, and charge density, \u03c3 = 2 nC/m2 "
     ]
    },
    {
     "cell_type": "code",
     "collapsed": false,
     "input": [
      "#simga = 2 nC/m^2\n",
      "#r0costheta0 = 2, r0sintheta0 = 3\n",
      "#r0 = (2^2 + 3^2)^(1/2)\n",
      "\n",
      "r0 = np.sqrt(13)\n",
      "K = 8.988e9 #Nm^2/C^2\n",
      "sigma = 2e-9 #C/m^2\n",
      "dV = lambda r,theta: K*sigma*r/np.abs(r-r0)\n",
      "\n",
      "r_lim = 1.2 #m\n",
      "theta_lim = 2*np.pi\n",
      "\n",
      "print \"Point potential at (x,y) = (2.,3.) due to a circular plane\"\n",
      "print \"of constant charge density 2 nC/m^2: \"\n",
      "for i in range(1,7):\n",
      "    r = r_lim*np.random.random_sample(10**i)\n",
      "    theta = theta_lim*np.random.random_sample(10**i)\n",
      "    \n",
      "    V = r_lim*theta_lim*dV(r,theta).mean()\n",
      "    #q = pointPotential(x,y,Q,2.,3.)\n",
      "    print \"For 10^%s random samples, V = %s C\" %(i, V)\n",
      "    "
     ],
     "language": "python",
     "metadata": {},
     "outputs": [
      {
       "output_type": "stream",
       "stream": "stdout",
       "text": [
        "Point potential at (x,y) = (2.,3.) due to a circular plane\n",
        "of constant charge density 2 nC/m^2: \n",
        "For 10^1 random samples, V = 21.8281463594 C\n",
        "For 10^2 random samples, V = 33.0952980657 C\n",
        "For 10^3 random samples, V = 28.3552944343 C\n",
        "For 10^4 random samples, V = 29.3377786361 C\n",
        "For 10^5 random samples, V = 29.3384309367 C\n",
        "For 10^6 random samples, V = 29.2621124632 C"
       ]
      },
      {
       "output_type": "stream",
       "stream": "stdout",
       "text": [
        "\n"
       ]
      }
     ],
     "prompt_number": 12
    },
    {
     "cell_type": "heading",
     "level": 2,
     "metadata": {},
     "source": [
      "Question 2"
     ]
    },
    {
     "cell_type": "markdown",
     "metadata": {},
     "source": [
      "Use the sample mean method to compute the volume of a sphere with radius 1 using spherical coordinates:\n",
      "V=\u222b10\u222b\u03c00\u222b2\u03c00r2sin(\u03b8)drd\u03b8d\u03d5\n",
      "for N=(101,102,103,104,105,106). Report the value and statistical uncertainty for each sample size. How does the result depend on N?"
     ]
    },
    {
     "cell_type": "code",
     "collapsed": false,
     "input": [
      "dV = lambda r,theta,phi: (r**2)*np.sin(theta)\n",
      "phi_lim = np.pi\n",
      "theta_lim = 2*np.pi\n",
      "r_lim = 1\n",
      "\n",
      "print \"Sample mean computation of volume of sphere of radius 1: \"\n",
      "for i in range(1,7):\n",
      "    r = r_lim*np.random.random_sample(10**i)\n",
      "    theta = theta_lim*np.random.random_sample(10**i)\n",
      "    phi = phi_lim*np.random.random_sample(10**i)\n",
      "    \n",
      "    V = r_lim*theta_lim*phi_lim*dV(r,theta,phi).mean()\n",
      "    unc = phi_lim*r_lim*theta_lim*np.sqrt((dV(r,theta,phi)**2).mean() - (dV(r,theta,phi).mean())**2)\n",
      "    print \"For 10^%s random samples, Volume = %s m^3\" %(i, V)\n",
      "    print \"unc = \", unc"
     ],
     "language": "python",
     "metadata": {},
     "outputs": [
      {
       "output_type": "stream",
       "stream": "stdout",
       "text": [
        "Sample mean computation of volume of sphere of radius 1: \n",
        "For 10^1 random samples, Volume = -0.914106135926 m^3\n",
        "unc =  6.89632481893\n",
        "For 10^2 random samples, Volume = -1.05512467196 m^3\n",
        "unc =  6.10971603502\n",
        "For 10^3 random samples, Volume = 0.0210466153045 m^3\n",
        "unc =  6.20361899946\n",
        "For 10^4 random samples, Volume = -0.0912792538649 m^3\n",
        "unc =  6.21826933782\n",
        "For 10^5 random samples, Volume = 0.00286534369346 m^3\n",
        "unc =  6.22429336888\n",
        "For 10^6 random samples, Volume = -0.00108772871096 m^3"
       ]
      },
      {
       "output_type": "stream",
       "stream": "stdout",
       "text": [
        "\n",
        "unc =  6.24181896721\n"
       ]
      }
     ],
     "prompt_number": 23
    },
    {
     "cell_type": "heading",
     "level": 2,
     "metadata": {},
     "source": [
      "Question 3"
     ]
    },
    {
     "cell_type": "markdown",
     "metadata": {},
     "source": [
      "(a) Use the hit or miss Monte Carlo method to estimate the integral of f(x)=4*(1\u2212x^2)^(1/2) in the interval 0\u2264x\u22641 as a function of N, the number of samples. Let N range from 101 to 106 and use at least 100 different values for N.\n",
      "(np.logspace might be useful here to get evenly spaced values for N.)"
     ]
    },
    {
     "cell_type": "code",
     "collapsed": false,
     "input": [
      "func = lambda x: 4*(1-x**2)\n",
      "def hitOrMiss(N,xmin=1.7,xmax=12.4):\n",
      "\n",
      "    #Set up the function\n",
      "    #f = lambda x: x**(0.5) + np.sin(x)\n",
      "    x = np.arange(0.,1.,0.001)\n",
      "    Iana = lambda x: (2./3.)*x**(3./2.) - np.cos(x)\n",
      "    Iexact = Iana(xmax)-Iana(xmin)\n",
      "\n",
      "    #find the maximum value of f within the boundary to set ymax\n",
      "    subx = x[logical_and((x > xmin),(x < xmax))]\n",
      "    ymax = f(subx).max()*1.05\n",
      "    ymin = 0.\n",
      "\n",
      "    ##########################################################\n",
      "    #Here's the integration part:\n",
      "    samples_x = xmin + (xmax-xmin)*np.random.random_sample(N);\n",
      "    samples_y = ymin + (ymax-ymin)*np.random.random_sample(N);\n",
      "    \n",
      "    newmask = (samples_y < f(samples_x))\n",
      "    I = (xmax-xmin)*(ymax-ymin)*newmask.sum()/newmask.size\n",
      "    Ierr = 100*np.abs(Iexact-I)/Iexact\n",
      "    ##########################################################\n",
      "\n",
      "    #Print our results:  \n",
      "    print \"I_exact =\",Iexact\n",
      "    print \"I_hitormiss =\",I\n",
      "    print \"Error on I =\",Ierr,\"%\"\n",
      "    \n",
      "    #Plot our function\n",
      "    plt.plot(x,f(x),lw=3)\n",
      "    plt.ylabel(r'$x^{1/2} + \\sin(x)$',fontsize=20)\n",
      "    plt.xlabel(r'$x$', fontsize = 20)\n",
      "    plt.xlim(0.,15.)\n",
      "\n",
      "    #Just show the first 500 points or it gets hard to see\n",
      "    plt.plot(samples_x[1:500],samples_y[1:500],'g.')\n",
      "\n",
      "    #Use the mask to show the ones below the function in red\n",
      "    plt.plot(samples_x[newmask[:500]],samples_y[newmask[:500]],'r.')\n",
      "\n",
      "    #plot the box\n",
      "    plt.plot([xmin, xmin], [ymin, ymax], color='k', linestyle='--') #vertical left\n",
      "    plt.plot([xmax, xmax], [ymin, ymax], color='k', linestyle='--') #vertical right\n",
      "    plt.plot([xmin, xmax], [ymax, ymax], color='k', linestyle='--') #horizontal top\n",
      "\n",
      "    plt.show()"
     ],
     "language": "python",
     "metadata": {},
     "outputs": []
    }
   ],
   "metadata": {}
  }
 ]
}