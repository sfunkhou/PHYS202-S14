{
 "metadata": {
  "name": "",
  "signature": "sha256:ce7de67464cddf2249810b27b2678931ee28af37c82f22473b9946d89bfc7237"
 },
 "nbformat": 3,
 "nbformat_minor": 0,
 "worksheets": [
  {
   "cells": [
    {
     "cell_type": "heading",
     "level": 1,
     "metadata": {},
     "source": [
      "Interpolation Exercises"
     ]
    },
    {
     "cell_type": "markdown",
     "metadata": {},
     "source": [
      "1. It is common to test functions where you know the answer they should give. Let's test the dipolePotential() function that we previously saved in Electrostatics.py to see that the function is zero along the bisector between the charges.\n",
      "First, set up a grid and evaluate the function."
     ]
    },
    {
     "cell_type": "code",
     "collapsed": false,
     "input": [
      "%pylab inline\n",
      "import numpy as np\n",
      "import matplotlib.pyplot as plt\n",
      "\n",
      "from Electrostatics import *\n",
      "x,y = np.meshgrid(np.arange(-5.,5.01,0.5), np.arange(-5.,5.01,0.5))\n",
      "Vdipole = dipolePotential(x,y, 1e-9,2.)\n",
      "plt.contour(x,y,Vdipole,cmap=cm.coolwarm)\n",
      "plt.show()"
     ],
     "language": "python",
     "metadata": {},
     "outputs": [
      {
       "output_type": "stream",
       "stream": "stdout",
       "text": [
        "Populating the interactive namespace from numpy and matplotlib\n"
       ]
      },
      {
       "output_type": "stream",
       "stream": "stderr",
       "text": [
        "Electrostatics.py:14: RuntimeWarning: divide by zero encountered in divide\n",
        "  Vxy = k*q/np.sqrt(((x-Xc)**2 + (y-Yc)**2))\n"
       ]
      },
      {
       "metadata": {},
       "output_type": "display_data",
       "png": "[encoded data removed]",
       "text": [
        "<matplotlib.figure.Figure at 0x3807f98>"
       ]
      }
     ],
     "prompt_number": 2
    },
    {
     "cell_type": "markdown",
     "metadata": {},
     "source": [
      "(a) Use a boolean mask to locate the positions where x=0."
     ]
    },
    {
     "cell_type": "code",
     "collapsed": false,
     "input": [
      "ii = (x == 0)\n",
      "#print ii"
     ],
     "language": "python",
     "metadata": {},
     "outputs": [],
     "prompt_number": 3
    },
    {
     "cell_type": "markdown",
     "metadata": {},
     "source": [
      "(b) Check that Vdipole for these locations is zero. i.e. print the value of Vdipole for these locations using your mask from part (a)."
     ]
    },
    {
     "cell_type": "code",
     "collapsed": false,
     "input": [
      "print dipolePotential(ii, y, 1e-9, 2.)"
     ],
     "language": "python",
     "metadata": {},
     "outputs": [
      {
       "output_type": "stream",
       "stream": "stdout",
       "text": [
        "[[  0.           0.           0.           0.           0.           0.\n",
        "    0.           0.           0.           0.          -0.12856389   0.\n",
        "    0.           0.           0.           0.           0.           0.\n",
        "    0.           0.           0.        ]\n",
        " [  0.           0.           0.           0.           0.           0.\n",
        "    0.           0.           0.           0.          -0.17213848   0.\n",
        "    0.           0.           0.           0.           0.           0.\n",
        "    0.           0.           0.        ]\n",
        " [  0.           0.           0.           0.           0.           0.\n",
        "    0.           0.           0.           0.          -0.23721027   0.\n",
        "    0.           0.           0.           0.           0.           0.\n",
        "    0.           0.           0.        ]\n",
        " [  0.           0.           0.           0.           0.           0.\n",
        "    0.           0.           0.           0.          -0.33833474   0.\n",
        "    0.           0.           0.           0.           0.           0.\n",
        "    0.           0.           0.        ]\n",
        " [  0.           0.           0.           0.           0.           0.\n",
        "    0.           0.           0.           0.          -0.50315223   0.\n",
        "    0.           0.           0.           0.           0.           0.\n",
        "    0.           0.           0.        ]\n",
        " [  0.           0.           0.           0.           0.           0.\n",
        "    0.           0.           0.           0.          -0.78778117   0.\n",
        "    0.           0.           0.           0.           0.           0.\n",
        "    0.           0.           0.        ]\n",
        " [  0.           0.           0.           0.           0.           0.\n",
        "    0.           0.           0.           0.          -1.31619649   0.\n",
        "    0.           0.           0.           0.           0.           0.\n",
        "    0.           0.           0.        ]\n",
        " [  0.           0.           0.           0.           0.           0.\n",
        "    0.           0.           0.           0.          -2.39668048   0.\n",
        "    0.           0.           0.           0.           0.           0.\n",
        "    0.           0.           0.        ]\n",
        " [  0.           0.           0.           0.           0.           0.\n",
        "    0.           0.           0.           0.          -4.96819644   0.\n",
        "    0.           0.           0.           0.           0.           0.\n",
        "    0.           0.           0.        ]\n",
        " [  0.           0.           0.           0.           0.           0.\n",
        "    0.           0.           0.           0.         -13.6155006    0.\n",
        "    0.           0.           0.           0.           0.           0.\n",
        "    0.           0.           0.        ]\n",
        " [  0.           0.           0.           0.           0.           0.\n",
        "    0.           0.           0.           0.                 -inf   0.\n",
        "    0.           0.           0.           0.           0.           0.\n",
        "    0.           0.           0.        ]\n",
        " [  0.           0.           0.           0.           0.           0.\n",
        "    0.           0.           0.           0.         -13.6155006    0.\n",
        "    0.           0.           0.           0.           0.           0.\n",
        "    0.           0.           0.        ]\n",
        " [  0.           0.           0.           0.           0.           0.\n",
        "    0.           0.           0.           0.          -4.96819644   0.\n",
        "    0.           0.           0.           0.           0.           0.\n",
        "    0.           0.           0.        ]\n",
        " [  0.           0.           0.           0.           0.           0.\n",
        "    0.           0.           0.           0.          -2.39668048   0.\n",
        "    0.           0.           0.           0.           0.           0.\n",
        "    0.           0.           0.        ]\n",
        " [  0.           0.           0.           0.           0.           0.\n",
        "    0.           0.           0.           0.          -1.31619649   0.\n",
        "    0.           0.           0.           0.           0.           0.\n",
        "    0.           0.           0.        ]\n",
        " [  0.           0.           0.           0.           0.           0.\n",
        "    0.           0.           0.           0.          -0.78778117   0.\n",
        "    0.           0.           0.           0.           0.           0.\n",
        "    0.           0.           0.        ]\n",
        " [  0.           0.           0.           0.           0.           0.\n",
        "    0.           0.           0.           0.          -0.50315223   0.\n",
        "    0.           0.           0.           0.           0.           0.\n",
        "    0.           0.           0.        ]\n",
        " [  0.           0.           0.           0.           0.           0.\n",
        "    0.           0.           0.           0.          -0.33833474   0.\n",
        "    0.           0.           0.           0.           0.           0.\n",
        "    0.           0.           0.        ]\n",
        " [  0.           0.           0.           0.           0.           0.\n",
        "    0.           0.           0.           0.          -0.23721027   0.\n",
        "    0.           0.           0.           0.           0.           0.\n",
        "    0.           0.           0.        ]\n",
        " [  0.           0.           0.           0.           0.           0.\n",
        "    0.           0.           0.           0.          -0.17213848   0.\n",
        "    0.           0.           0.           0.           0.           0.\n",
        "    0.           0.           0.        ]\n",
        " [  0.           0.           0.           0.           0.           0.\n",
        "    0.           0.           0.           0.          -0.12856389   0.\n",
        "    0.           0.           0.           0.           0.           0.\n",
        "    0.           0.           0.        ]]\n"
       ]
      }
     ],
     "prompt_number": 4
    },
    {
     "cell_type": "markdown",
     "metadata": {},
     "source": [
      "\n",
      "2. Thermistors are electrical devices that measure temperature. They are made out of a material whose resistance changes very predictably with temperature. In the lab we measure the resistance of the thermistor and then compute the temperature from the engineering data that the manufacturer sends with the devices. The table below is data for a set of thermistors used in PHYS 340. The temperature values are in \u2218C and the resistances in mega-Ohms, M\u03a9.\n",
      "Temp   Res   Temp   Res   Temp   Res   Temp   Res   Temp   Res\n",
      "--------------------------------------------------------------- \n",
      " 10   3.239   16   2.610   22   2.169   28   1.857   34   1.634\n",
      " 11   3.118   17   2.526   23   2.110   29   1.815   35   1.603\n",
      " 12   3.004   18   2.446   24   2.053   30   1.774   36   1.574\n",
      " 13   2.897   19   2.371   25   2.000   31   1.736   37   1.547\n",
      " 14   2.795   20   2.300   26   1.950   32   1.700   38   1.521\n",
      " 15   2.700   21   2.233   27   1.902   33   1.666   39   1.496\n",
      "(a) Let's turn this look-up table into a continuous function. Write a reusable function Temp(Resistance) that takes any value of Resistance and returns the interpolated temperature. Be sure to include a docstring in your function.\n"
     ]
    },
    {
     "cell_type": "code",
     "collapsed": false,
     "input": [
      "from scipy.interpolate import interp1d\n",
      "\n",
      "Temp_Range = range(10,40)\n",
      "Res = [3.239,3.118,3.004,2.897,2.795,\n",
      "       2.700,2.61,2.526,2.446,2.371,\n",
      "       2.300,2.233,2.169,2.110,2.053,\n",
      "       2.000,1.950,1.902,1.857,1.815,\n",
      "       1.774,1.736,1.700,1.666,1.634,\n",
      "       1.603,1.574,1.547,1.521,1.496]\n",
      "Res2 = Res[::-1]\n",
      "    \n",
      "Temp_Range2 = Temp_Range[::-1]\n",
      "\n",
      "def Temp(Resistance):\n",
      "    \"\"\"\n",
      "    This function takes any Resistance (float or int)\n",
      "    and interpolates it according to the manufacturer's\n",
      "    data regarding the thermistor.\n",
      "    \"\"\"\n",
      "    \n",
      "    return interp1d(Res2, Temp_Range2, kind = 'cubic')(Resistance)\n",
      "\n",
      "print Temp(1.605)"
     ],
     "language": "python",
     "metadata": {},
     "outputs": [
      {
       "output_type": "stream",
       "stream": "stdout",
       "text": [
        "34.9338267038\n"
       ]
      }
     ],
     "prompt_number": 5
    },
    {
     "cell_type": "markdown",
     "metadata": {},
     "source": [
      "(b) Show that the function returns expected values, including some from the table for a few specific input resistances."
     ]
    },
    {
     "cell_type": "code",
     "collapsed": false,
     "input": [
      "print Temp(2.000)\n",
      "print Temp(2.371)"
     ],
     "language": "python",
     "metadata": {},
     "outputs": [
      {
       "output_type": "stream",
       "stream": "stdout",
       "text": [
        "25.0\n",
        "19.0\n"
       ]
      }
     ],
     "prompt_number": 6
    },
    {
     "cell_type": "markdown",
     "metadata": {},
     "source": [
      "(c) Plot Temp(Resistance) vs. Resistance for a reasonable range of Resistance with reasonably fine sampling. Include as an annotation on the plot the value of the temperature for a resistance of 1.75 M\u03a9. (It's up to you to decide what \"reasonable\" means in both cases.)"
     ]
    },
    {
     "cell_type": "code",
     "collapsed": false,
     "input": [
      "plt.plot(Res2, Temp_Range2)\n",
      "plt.annotate('Temp for 1.75 Milli-Ohm Resistance', xy=(1.75, Temp(1.75)),\n",
      "                arrowprops=dict(arrowstyle=\"->\"),\n",
      "                fontsize=16)"
     ],
     "language": "python",
     "metadata": {},
     "outputs": [
      {
       "metadata": {},
       "output_type": "pyout",
       "prompt_number": 12,
       "text": [
        "<matplotlib.text.Annotation at 0xa27d5c0>"
       ]
      },
      {
       "metadata": {},
       "output_type": "display_data",
       "png": "[encoded data removed]",
       "text": [
        "<matplotlib.figure.Figure at 0xa27d400>"
       ]
      }
     ],
     "prompt_number": 12
    },
    {
     "cell_type": "code",
     "collapsed": false,
     "input": [],
     "language": "python",
     "metadata": {},
     "outputs": [],
     "prompt_number": 7
    }
   ],
   "metadata": {}
  }
 ]
}