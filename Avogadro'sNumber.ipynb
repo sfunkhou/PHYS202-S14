{
 "metadata": {
  "name": "",
  "signature": "sha256:276f70985d05d6c237eb52300a94aff8d5066f8c65b34945fa53e37c1c416582"
 },
 "nbformat": 3,
 "nbformat_minor": 0,
 "worksheets": [
  {
   "cells": [
    {
     "cell_type": "heading",
     "level": 1,
     "metadata": {},
     "source": [
      "Avogadro's Number"
     ]
    },
    {
     "cell_type": "markdown",
     "metadata": {},
     "source": [
      "This program will read in several sequential images of milkfat globules (\"blobs\") immersed in a homogenous liquid, and track their depth (luminescence) and motion. \n",
      "\n",
      "Subsequently, the function will use the distance moved in the time interval to estimate the Self-Diffusion Constant, the Boltzmann constant, and Avogadro's number.\n",
      "\n",
      "**Components:**\n",
      "\n",
      "1) Image Segmemtation (Blob/Pixel Identification)\n",
      "   i) BlobFinder \n",
      "\n",
      "2) Particle (Bead) Identification\n",
      "   i) add(i,j) #add pixel (i,j) to the blob, based on BlobFinder\n",
      "   ii) mass() # return number of pixels in bead\n",
      "   iii) distanceTo(blob) #returns distance between centers of masses of this bead and blob\n",
      "   iv) centerOfMass() #return tuple of (x,y) values for this blob's center of mass\n",
      "\n",
      "3) Particle Tracking\n",
      "\n",
      "4) Data Analysis\n"
     ]
    },
    {
     "cell_type": "code",
     "collapsed": false,
     "input": [
      "class Blob(object):\n",
      "    def _init_(self, name):\n",
      "        self.name = name\n",
      "    \n",
      "    def add(i,j):\n",
      "        \n",
      "    def mass():\n",
      "        \n",
      "    def distanceTo(blob):\n",
      "        \n",
      "    def centerOfMass():\n",
      "        \n",
      "    def BlobFinder(picture, threshold):\n",
      "        black = (0, 0, 0)\n",
      "        white = (255, 255, 255)\n",
      "        xsize, ysize = picture.size\n",
      "        temp = picture.load()\n",
      "        for x in range(xsize):\n",
      "            for y in range(ysize):\n",
      "                r,g,b = temp[x,y]\n",
      "                if r+g+b >= threshold: \n",
      "                    temp[x,y] = black\n",
      "                else:\n",
      "                    temp[x,y] = white\n",
      "    \n",
      "    def fillrec(picture, tau):\n",
      "        if picture[x,y] != BLACK:\n",
      "            return\n",
      "        picture[x,y] = RED\n",
      "        if x > 0:\n",
      "            fillrec(picture, xsize, ysize, x-1, y)\n",
      "        if x < (xsize-1):\n",
      "            fillrec(picture, xsize, ysize, x+1, y)\n",
      "        if y > 0:\n",
      "            fillrec(picture, xsize, ysize, x, y-1)\n",
      "        if y < (ysize-1):\n",
      "            fillrec(picture, xsize, ysize, x, y+1)\n",
      "    \n",
      "    def count(picture,fillfunc):\n",
      "        \"\"\"scan the image top to bottom and left to right using a nested loop.\n",
      "        when black pixel is found, increment the count, then call the fill\n",
      "        function to fill in all the pixels connected to that one.\"\"\"\n",
      "        xsize, ysize = picture.size\n",
      "        temp = picture.load()\n",
      "        result = 0\n",
      "        for x in range(xsize):\n",
      "            for y in range(ysize):\n",
      "                if temp[x,y] == BLACK:\n",
      "                    result += 1\n",
      "                    fillfunc(temp,xsize,ysize,x,y)\n",
      "        return result\n",
      "        \n",
      "    def countBeads(P):\n",
      "        \n",
      "    def getBeads(P):\n",
      "        \n",
      "#calling count function:        \n",
      "count(slide, fillrec)"
     ],
     "language": "python",
     "metadata": {},
     "outputs": []
    }
   ],
   "metadata": {}
  }
 ]
}