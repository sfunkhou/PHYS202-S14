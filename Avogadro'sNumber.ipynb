{
 "metadata": {
  "name": "",
  "signature": "sha256:0bcfb9f2af69bff03d8de052e20f23c9b0f481bf7adbb7a8a09687e18ec4a857"
 },
 "nbformat": 3,
 "nbformat_minor": 0,
 "worksheets": [
  {
   "cells": [
    {
     "cell_type": "heading",
     "level": 1,
     "metadata": {},
     "source": [
      "Avogadro's Number"
     ]
    },
    {
     "cell_type": "markdown",
     "metadata": {},
     "source": [
      "This program will read in several sequential images of milkfat globules (\"blobs\") immersed in a homogenous liquid, and track their depth (luminescence) and motion. \n",
      "\n",
      "Subsequently, the function will use the distance moved in the time interval to estimate the Self-Diffusion Constant, the Boltzmann constant, and Avogadro's number.\n",
      "\n",
      "**Components:**\n",
      "\n",
      "1) Image Segmemtation (Blob/Pixel Identification)\n",
      "   i) BlobFinder \n",
      "\n",
      "2) Particle (Bead) Identification\n",
      "   i) add(i,j) #add pixel (i,j) to the blob, based on BlobFinder\n",
      "   ii) mass() # return number of pixels in bead\n",
      "   iii) distanceTo(blob) #returns distance between centers of masses of this bead and blob\n",
      "   iv) centerOfMass() #return tuple of (x,y) values for this blob's center of mass\n",
      "\n",
      "3) Particle Tracking\n",
      "\n",
      "4) Data Analysis\n"
     ]
    },
    {
     "cell_type": "code",
     "collapsed": false,
     "input": [
      "class Blob(object):\n",
      "    def _init_(self, name):\n",
      "        self.name = []\n",
      "    \n",
      "    def add(i,j):\n",
      "        name.append((i,j)\n",
      "        \n",
      "    def mass(x):\n",
      "        return len(x)\n",
      "    def distanceTo(blob1,blob2):\n",
      "        dist = np.sqrt((blob2[0] - centerOfMass(blob1)[0])**2 + (blob2[0] - centerOfMass(blob1)[0])**2)\n",
      "    def centerOfMass(x):\n",
      "        x_i = 0\n",
      "        for i in range(len(x)):\n",
      "            x_i += x[i][0]\n",
      "            y_i += y[i][0]\n",
      "        x_c = x_i/mass(x)\n",
      "        y_c = y_i/mass(x)\n",
      "        return (x_c,y_c)\n",
      "    \n",
      "    def BlobFinder(picture, threshold): #monochrome\n",
      "        black = (0, 0, 0)\n",
      "        white = (255, 255, 255)\n",
      "        xsize, ysize = picture.size\n",
      "        temp = picture.load()\n",
      "        for x in range(xsize):\n",
      "            for y in range(ysize):\n",
      "                r,g,b = temp[x,y]\n",
      "                if r+g+b >= threshold: \n",
      "                    temp[x,y] = black\n",
      "                else:\n",
      "                    temp[x,y] = white\n",
      "    \n",
      "    def fillrec(picture, tau):\n",
      "        if picture[x,y] != BLACK:\n",
      "            return\n",
      "        picture[x,y] = RED\n",
      "        blob.add(x,y)\n",
      "        if x > 0:\n",
      "            fillrec(picture, xsize, ysize, x-1, y)\n",
      "        if x < (xsize-1):\n",
      "            fillrec(picture, xsize, ysize, x+1, y)\n",
      "        if y > 0:\n",
      "            fillrec(picture, xsize, ysize, x, y-1)\n",
      "        if y < (ysize-1):\n",
      "            fillrec(picture, xsize, ysize, x, y+1)\n",
      "    \n",
      "    def count(picture,fillfunc):\n",
      "        \"\"\"scan the image top to bottom and left to right\n",
      "        using a nested loop. When black pixel is found,\n",
      "        increment the count, then call the fill function\n",
      "        to fill in all the pixels connected to that one.\"\"\"\n",
      "        xsize, ysize = picture.size\n",
      "        temp = picture.load()\n",
      "        result = 0\n",
      "        for x in range(xsize):\n",
      "            for y in range(ysize):\n",
      "                if temp[x,y] == BLACK:\n",
      "                    result += 1\n",
      "                    fillfunc(temp,xsize,ysize,x,y)\n",
      "        return result\n",
      "        \n",
      "    def countBeads(P, self):\n",
      "        n = 0\n",
      "        if self.mass() >= P:\n",
      "           n += 1 \n",
      "        \n",
      "    def getBeads(P, blob):\n",
      "        for i in range(len(blob)):\n",
      "            if blob.mass() != P:\n",
      "                del blob.mass()[i]\n",
      "        \n",
      "#calling count function:        \n",
      "count(slide, fillrec)\n",
      "\n",
      "\n",
      "\n",
      "\n"
     ],
     "language": "python",
     "metadata": {},
     "outputs": [
      {
       "ename": "SyntaxError",
       "evalue": "invalid syntax (<ipython-input-1-e3a6d090fde3>, line 8)",
       "output_type": "pyerr",
       "traceback": [
        "\u001b[1;36m  File \u001b[1;32m\"<ipython-input-1-e3a6d090fde3>\"\u001b[1;36m, line \u001b[1;32m8\u001b[0m\n\u001b[1;33m    def mass():\u001b[0m\n\u001b[1;37m      ^\u001b[0m\n\u001b[1;31mSyntaxError\u001b[0m\u001b[1;31m:\u001b[0m invalid syntax\n"
       ]
      }
     ],
     "prompt_number": 1
    },
    {
     "cell_type": "code",
     "collapsed": false,
     "input": [
      "# at t + dt, find closest bead to individual bead, treat them as the same"
     ],
     "language": "python",
     "metadata": {},
     "outputs": []
    }
   ],
   "metadata": {}
  }
 ]
}