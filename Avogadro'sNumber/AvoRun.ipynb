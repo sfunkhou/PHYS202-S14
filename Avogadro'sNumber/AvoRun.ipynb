{
 "metadata": {
  "name": "",
  "signature": "sha256:4d8a84df8dd2d85a11e9c45def9d6c02d4926732ab088e70745c41a251328fa6"
 },
 "nbformat": 3,
 "nbformat_minor": 0,
 "worksheets": [
  {
   "cells": [
    {
     "cell_type": "heading",
     "level": 1,
     "metadata": {},
     "source": [
      "Avogadro's Number: Particle Tracking and Data Analysis"
     ]
    },
    {
     "cell_type": "markdown",
     "metadata": {},
     "source": [
      "This program will read in several sequential images of milkfat globules (\"blobs\") immersed in a homogenous liquid, and track their depth (luminescence) and motion, for use in statistical calculation. \n",
      "\n",
      "The ParticleTracker function will implement functions in Blobfinder.py to find the distances each bead moves in a given time interval (from frame to frame), and then write these radial displacements to the text file radial_displacements.txt. \n",
      "\n",
      "Subsequently, these radial displacements afford estimates of the self-diffusion constant (D), the Boltzmann constant, and Avogadro's number."
     ]
    },
    {
     "cell_type": "heading",
     "level": 2,
     "metadata": {},
     "source": [
      "Particle Tracking"
     ]
    },
    {
     "cell_type": "markdown",
     "metadata": {},
     "source": [
      "**Procedure: **\n",
      "\n",
      "    1) Open image data collected\n",
      "    \n",
      "    2) Find beads in initial frame and consecutive frame\n",
      "    \n",
      "    3) For each bead in initial frame, find the closest bead to it in the consecutive frame,\n",
      "\n",
      "    and the radial distance between them; treat these beads as the same bead"
     ]
    },
    {
     "cell_type": "code",
     "collapsed": false,
     "input": [
      "#Loading necessities:\n",
      "%pylab inline\n",
      "from Blobfinder import * #defined in \"Avogadro'sNumber\" notebook\n",
      "import numpy as np\n",
      "\n",
      "#for image operations:\n",
      "from PIL import Image\n",
      "import requests\n",
      "from StringIO import StringIO"
     ],
     "language": "python",
     "metadata": {},
     "outputs": [
      {
       "output_type": "stream",
       "stream": "stdout",
       "text": [
        "Populating the interactive namespace from numpy and matplotlib\n"
       ]
      }
     ],
     "prompt_number": 1
    },
    {
     "cell_type": "heading",
     "level": 3,
     "metadata": {},
     "source": [
      "Collecting image data:"
     ]
    },
    {
     "cell_type": "code",
     "collapsed": false,
     "input": [
      "#creating arrays for the data and test images:\n",
      "test_frames = []\n",
      "for i in range(200):\n",
      "    x = str(i)\n",
      "    if i < 10:\n",
      "        test_frames.append(\"frame0000\"+x+\".jpg\")\n",
      "    elif i < 100:\n",
      "        test_frames.append(\"frame000\"+x+\".jpg\")\n",
      "    else:\n",
      "        test_frames.append(\"frame00\"+x+\".jpg\")\n",
      "\n",
      "data_frames = []\n",
      "for i in range(1,201):\n",
      "    x = str(i)\n",
      "    if i < 10:\n",
      "        data_frames.append(\"Funkhouser_T000\"+x+\".jpg\")\n",
      "    elif i < 100:\n",
      "        data_frames.append(\"Funkhouser_T00\"+x+\".jpg\")\n",
      "    else:\n",
      "        data_frames.append(\"Funkhouser_T0\"+x+\".jpg\")\n",
      "        "
     ],
     "language": "python",
     "metadata": {},
     "outputs": [],
     "prompt_number": 2
    },
    {
     "cell_type": "heading",
     "level": 3,
     "metadata": {},
     "source": [
      "Writing bead displacements to radial_displacements.txt:"
     ]
    },
    {
     "cell_type": "code",
     "collapsed": false,
     "input": [
      "#Note: passing frames, P, tau, delta_p to ParticleTracker\n",
      "\n",
      "def ParticleTracker(frame_arr,P,tau,delta_p):\n",
      "    \"\"\"Determines blobs based on luminance threshold tau\n",
      "    using \"Blobfinder\" function from Blobfinder.py. \n",
      "    \n",
      "    Determines beads as aggregations of blobs that do not exceed P\n",
      "    as distance to center of mass of bead.\n",
      "    \n",
      "    Finds displacement of each bead in two consecutive image frames.\n",
      "    Eliminates beads that have traveled beyond delta_p from consideration.\n",
      "    \"\"\"\n",
      "    \n",
      "    distances = [] #will hold distance from bead (i) in frame 1 to each bead in frame 2\n",
      "    \n",
      "    #min of \"distances\" array above will represent bead 1's radial displacement from frame (n) to (n+1)\n",
      "    min_distance_list = [] #will hold (min) radial displacements of each bead from frame (n) to frame (n + 1):\n",
      "    \n",
      "    for n in range(199):   \n",
      "        #opening each image and the next consecutive image\n",
      "        frame1 = Image.open(frame_arr[n])\n",
      "        frame2 = Image.open(frame_arr[n+1])\n",
      "             \n",
      "        blob1 = BlobFinder(frame1, tau)#returns a list of all blobb objects in frame 1 (array)\n",
      "        blob2 = BlobFinder(frame2, tau)#all blobb objects in frame 2\n",
      "        \n",
      "        beads_1 = getBeads(P,blob1)#returns a list of beads (Blob objects) in frame 1 (blobs with mass >= P)\n",
      "        beads_2 = getBeads(P,blob2)#list of beads in frame 2\n",
      "        \n",
      "        for i in range(len(beads_1)):\n",
      "            for j in range(len(beads_2)):  \n",
      "                #distance from bead (i) in frame 1 to each bead in frame 2:\n",
      "                distance_i = beads_1[i].distanceTo(beads_1[i],beads_2[j])\n",
      "                \n",
      "                #compare distance to condition delta_p (did it move outside the range?)\n",
      "                if distance_i < delta_p:\n",
      "                    distances.append(distance_i)\n",
      "                    #again, distances array (with an 's') holds the sequential distances\n",
      "                    #between bead_i and bead_j in frame j\n",
      "                    \n",
      "            #creating list of minimum displacements\n",
      "            if len(distances) > 0:\n",
      "                min_distance_list.append(min(distances))\n",
      "            \n",
      "            #resetting distances array\n",
      "            distances = []\n",
      "                   \n",
      "    #returning txt file with radial displacements\n",
      "    return min_distance_list\n",
      "    #distances = np.savetxt('Avo_Data.txt',distance_list, fmt='%.4e', header=\"My dataset\")\n",
      "    #return distances\n",
      "\n"
     ],
     "language": "python",
     "metadata": {},
     "outputs": [],
     "prompt_number": 5
    },
    {
     "cell_type": "code",
     "collapsed": false,
     "input": [
      "data_radial_displacements = ParticleTracker(data_frames,30,700,10)           \n",
      "#print data_radial_displacements"
     ],
     "language": "python",
     "metadata": {},
     "outputs": [],
     "prompt_number": 22
    },
    {
     "cell_type": "code",
     "collapsed": false,
     "input": [
      "#Radial displacements for test run 2\n",
      "test_radial_displacements = ParticleTracker(test_frames,30,600,10)           \n",
      "#print test_radial_displacements"
     ],
     "language": "python",
     "metadata": {},
     "outputs": [],
     "prompt_number": 6
    },
    {
     "cell_type": "heading",
     "level": 2,
     "metadata": {},
     "source": [
      "Data Analysis"
     ]
    },
    {
     "cell_type": "markdown",
     "metadata": {},
     "source": [
      "Radial displacements will be used to estimate the Self-Diffusion Constant, related to the statistical variance per unit time by the Einstein-Smoluchowski equation. \n",
      "\n",
      "${\\sigma^2} = (r_1^2 + ... r_n^2)/(2n)$\n",
      "\n",
      "Quoting Dr. Klay, \"The self-diffusion constant D characterizes the stochastic movement of a molecule (bead) through a homogeneous medium (the water molecules) as a result of random thermal energy.\"\n",
      "\n",
      "Further, \"the Stokes-Einstein relation asserts that the self-diffusion constant of a spherical particle immersed in a fluid is given by: \"\n",
      "\n",
      "$D = kT/(6\\pi\\eta\\rho)$\n",
      "\n",
      "where, for the test data,\n",
      "\n",
      "$T = $ absolute temperature = 297 degrees Kelvin (room temperature)\n",
      "\n",
      "$\\eta = $ viscosity of water = $9.135x10^{-4}   Ns/m^2 $\n",
      "\n",
      "$\\rho = $ radius of bead = $0.5x10^{-6}meters$\n",
      "\n",
      "Rearranging, $k = (6D\\pi\\eta\\rho)/T$\n",
      "\n",
      "Boltzmann constant, and Avogadro's number."
     ]
    },
    {
     "cell_type": "code",
     "collapsed": false,
     "input": [
      "#delta_t is the time interval between position measurements\n",
      "delta_t = 0.5 #s\n",
      "\n",
      "T = 297. #degrees Kelvin\n",
      "eta = 9.135*10**(-4) #N*s/m^2\n",
      "rho = 0.5*10**(-6) #m\n",
      "\n",
      "def Estimation(text_file):\n",
      "    \n",
      "    distances_in = np.loadtxt(text_file)\n",
      "    #meters per pixel conversion:\n",
      "    mp = (0.175*10**(-6))**2\n",
      "\n",
      "    r2 = distances_in**2\n",
      "    variance = r2.sum()/(2.*len(distances_in))\n",
      "\n",
      "    D = variance/(2.*delta_t)\n",
      "    #since delta_t is 0.5 variance = D\n",
      "    #k = 6*D*pi*eta*rho/T\n",
      "\n",
      "    \n",
      "    #Boltzmann constant:\n",
      "    k = 6.*np.pi*D*eta*rho/T\n",
      "\n",
      "    #universal gas constant:\n",
      "    R = 8.31457 #J/K*mol\n",
      "\n",
      "    NA = R/k #atoms per mol\n",
      "    \n",
      "    return k, NA\n",
      "\n",
      "test_estimate = np.savetxt('Avo_Test_Data.txt',test_radial_displacements, fmt='%.4e', header=\"Test dataset\")\n",
      "data_estimate = np.savetxt('Avo_Experiment_Data.txt',data_radial_displacements, fmt='%.4e', header=\"Test dataset\")\n",
      "\n",
      "test_k,test_NA = Estimation('Avo_Test_Data.txt')\n",
      "data_k,data_NA = Estimation('Avo_Experiment_Data.txt')\n",
      "#k1,NA1 = Estimation('Avo_Data.txt')\n",
      "\n",
      "print \"For the test data: \"\n",
      "print \"The Boltzmann constant is \", test_k, \"J/K\"\n",
      "print \"Avogadro's constant is \", test_NA, \"atoms/mol\"\n",
      "\n",
      "print \"For the experimental data: \"\n",
      "print \"The Boltzmann constant is \", data_k, \"J/K\"\n",
      "print \"Avogadro's constant is \", data_NA, \"atoms/mol\"\n"
     ],
     "language": "python",
     "metadata": {},
     "outputs": [
      {
       "output_type": "stream",
       "stream": "stdout",
       "text": [
        "For the test data: \n",
        "The Boltzmann constant is  3.63957960492e-10 J/K\n",
        "Avogadro's constant is  22844863700.1 atoms/mol\n",
        "For the experimental data: \n",
        "The Boltzmann constant is  3.64979098428e-10 J/K\n",
        "Avogadro's constant is  22780948377.1 atoms/mol\n"
       ]
      }
     ],
     "prompt_number": 23
    },
    {
     "cell_type": "code",
     "collapsed": false,
     "input": [],
     "language": "python",
     "metadata": {},
     "outputs": []
    }
   ],
   "metadata": {}
  }
 ]
}