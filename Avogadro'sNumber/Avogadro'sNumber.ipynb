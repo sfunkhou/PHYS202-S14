{
 "metadata": {
  "name": "",
  "signature": "sha256:987b0839744e278024da0ac1e83f3d9ab598997ce693a8b7e50a7b29f36178bd"
 },
 "nbformat": 3,
 "nbformat_minor": 0,
 "worksheets": [
  {
   "cells": [
    {
     "cell_type": "heading",
     "level": 1,
     "metadata": {},
     "source": [
      "Avogadro's Number"
     ]
    },
    {
     "cell_type": "markdown",
     "metadata": {},
     "source": [
      "This program will read in several sequential images of milkfat globules (\"blobs\") immersed in a homogenous liquid, and track their depth (luminescence) and motion. \n",
      "\n",
      "Subsequently, the function will use the distance moved in the time interval to estimate the Self-Diffusion Constant, the Boltzmann constant, and Avogadro's number.\n",
      "\n",
      "**Components:**\n",
      "\n",
      "1) Image Segmemtation (Blob/Pixel Identification)\n",
      "   i) BlobFinder \n",
      "\n",
      "2) Particle (Bead) Identification\n",
      "   i) add(i,j) #add pixel (i,j) to the blob, based on BlobFinder\n",
      "   ii) mass() # return number of pixels in bead\n",
      "   iii) distanceTo(blob) #returns distance between centers of masses of this bead and blob\n",
      "   iv) centerOfMass() #return tuple of (x,y) values for this blob's center of mass\n",
      "\n",
      "3) Particle Tracking\n",
      "\n",
      "4) Data Analysis\n"
     ]
    },
    {
     "cell_type": "code",
     "collapsed": false,
     "input": [
      "%%file Blobfinder.py\n",
      "class Blob(object):\n",
      "    def _init_(self, name):\n",
      "        self.name = []\n",
      "    \n",
      "    def add(self,i,j):\n",
      "        self.name.append((i,j))\n",
      "        \n",
      "    def get_mass(self):\n",
      "        self.mass = len(self.name)\n",
      "    def distanceTo(self,blob1,blob2):\n",
      "        self.distance = np.sqrt((blob2[0] - centerOfMass(blob1)[0])**2 + (blob2[0] - centerOfMass(blob1)[0])**2)\n",
      "    def centerOfMass(self):\n",
      "        x_i = 0\n",
      "        for i in range(len(self.mass)):\n",
      "            x_i += self[i][0]\n",
      "            y_i += y[i][0]\n",
      "        x_c = x_i/mass(self.mass)\n",
      "        y_c = y_i/mass(self.mass)\n",
      "        blob.com = (x_c,y_c)\n",
      "    \n",
      "def BlobFinder(picture, threshold): #monochrome\n",
      "    black = (0, 0, 0)\n",
      "    white = (255, 255, 255)\n",
      "    xsize, ysize = picture.size\n",
      "    temp = picture.load()\n",
      "    for x in range(xsize):\n",
      "        for y in range(ysize):\n",
      "            r,g,b = temp[x,y]\n",
      "            if r+g+b >= threshold: \n",
      "                    temp[x,y] = black\n",
      "            else:\n",
      "                    temp[x,y] = white\n",
      "    \n",
      "def fillrec(picture, tau):\n",
      "    if picture[x,y] != BLACK:\n",
      "        return\n",
      "    picture[x,y] = RED\n",
      "    blob.add(x,y)\n",
      "    if x > 0:\n",
      "        fillrec(picture, xsize, ysize, x-1, y)\n",
      "    if x < (xsize-1):\n",
      "        fillrec(picture, xsize, ysize, x+1, y)\n",
      "    if y > 0:\n",
      "        fillrec(picture, xsize, ysize, x, y-1)\n",
      "    if y < (ysize-1):\n",
      "        fillrec(picture, xsize, ysize, x, y+1)\n",
      "    \n",
      "def count(picture,fillfunc):\n",
      "    \"\"\"scan the image top to bottom and left to right\n",
      "    using a nested loop. When black pixel is found,\n",
      "    increment the count, then call the fill function\n",
      "    to fill in all the pixels connected to that one.\"\"\"\n",
      "    xsize, ysize = picture.size\n",
      "    temp = picture.load()\n",
      "    result = 0\n",
      "    for x in range(xsize):\n",
      "        for y in range(ysize):\n",
      "            if temp[x,y] == BLACK:\n",
      "                result += 1\n",
      "                fillfunc(temp,xsize,ysize,x,y)\n",
      "    return result\n",
      "        \n",
      "def countBeads(P, self):\n",
      "    n = 0\n",
      "    if self.mass() >= P:\n",
      "        n += 1 \n",
      "        \n",
      "def getBeads(P, blob):\n",
      "    for i in range(len(blob)):\n",
      "        if blob.mass() != P:\n",
      "            del blob.mass()[i]\n",
      "\n",
      "\n",
      "\n"
     ],
     "language": "python",
     "metadata": {},
     "outputs": [
      {
       "output_type": "stream",
       "stream": "stdout",
       "text": [
        "Overwriting Blobfinder.py\n"
       ]
      }
     ],
     "prompt_number": 10
    },
    {
     "cell_type": "code",
     "collapsed": false,
     "input": [],
     "language": "python",
     "metadata": {},
     "outputs": []
    }
   ],
   "metadata": {}
  }
 ]
}