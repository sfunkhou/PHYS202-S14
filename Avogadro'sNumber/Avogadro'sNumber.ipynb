{
 "metadata": {
  "name": "",
  "signature": "sha256:f7e566eba97a3dfdda708c50ad9eb250cddba5b9388399a1286e3a0bfc4d494d"
 },
 "nbformat": 3,
 "nbformat_minor": 0,
 "worksheets": [
  {
   "cells": [
    {
     "cell_type": "heading",
     "level": 1,
     "metadata": {},
     "source": [
      "Avogadro's Number: Particle Tracking and Data Analysis"
     ]
    },
    {
     "cell_type": "markdown",
     "metadata": {},
     "source": [
      "This program will read in several sequential images of milkfat globules (\"blobs\") immersed in a homogenous liquid, and track their depth (luminescence) and motion. \n",
      "\n",
      "The ParticleTracker function will implement functions in Blobfinder.py to find the distances each bead moves in a given time interval (from frame to frame), and then write these radial displacements to the text file radial_displacements.txt. \n",
      "\n",
      "Subsequently, these radial displacements will afford estimates of self-diffusion constant (D), the Boltzmann constant, and Avogadro's number."
     ]
    },
    {
     "cell_type": "heading",
     "level": 2,
     "metadata": {},
     "source": [
      "Particle Tracking"
     ]
    },
    {
     "cell_type": "markdown",
     "metadata": {},
     "source": [
      "**Procedure: **\n",
      "\n",
      "    1) Open image data collected\n",
      "    \n",
      "    2) Find beads in initial frame and consecutive frame\n",
      "    \n",
      "    3) For each bead in initial frame, find the closest bead to it in the consecutive frame,\n",
      "\n",
      "    and the radial distance between them; treat these beads as the same bead"
     ]
    },
    {
     "cell_type": "code",
     "collapsed": false,
     "input": [
      "#Loading necessities:\n",
      "%pylab inline\n",
      "import Blobfinder #defined in \"Avogadro'sNumber\" notebook\n",
      "import numpy as np\n",
      "\n",
      "#for image operations:\n",
      "from PIL import Image\n",
      "import requests\n",
      "from StringIO import StringIO"
     ],
     "language": "python",
     "metadata": {},
     "outputs": [
      {
       "output_type": "stream",
       "stream": "stdout",
       "text": [
        "Populating the interactive namespace from numpy and matplotlib\n"
       ]
      }
     ],
     "prompt_number": 2
    },
    {
     "cell_type": "heading",
     "level": 3,
     "metadata": {},
     "source": [
      "Collecting image data:"
     ]
    },
    {
     "cell_type": "code",
     "collapsed": false,
     "input": [
      "#creating an array of the image data collected:\n",
      "frames = []\n",
      "for i in range(200):\n",
      "    x = str(i)\n",
      "    if i < 10:\n",
      "        frames.append(\"frame0000\"+x+\".jpg\")\n",
      "    elif i < 100:\n",
      "        frames.append(\"frame000\"+x+\".jpg\")\n",
      "    else:\n",
      "        frames.append(\"frame00\"+x+\".jpg\")"
     ],
     "language": "python",
     "metadata": {},
     "outputs": [],
     "prompt_number": 3
    },
    {
     "cell_type": "heading",
     "level": 3,
     "metadata": {},
     "source": [
      "Writing bead displacements to radial_displacements.txt:"
     ]
    },
    {
     "cell_type": "code",
     "collapsed": false,
     "input": [
      "#Note: passing frames array to ParticleTracker\n",
      "\n",
      "def ParticleTracker(frame_arr,P,tau,delta_p):\n",
      "    \"\"\"Determines blobs based on luminance threshold tau\n",
      "    using \"Blobfinder\" function from Blobfinder.py. \n",
      "    \n",
      "    Determines beads as aggregations of blobs that do not exceed P\n",
      "    as distance to center of mass of bead.\n",
      "    \n",
      "    Finds displacement of each bead in two consecutive image frames.\n",
      "    Eliminates beads that have traveled beyond delta_p from consideration.\n",
      "    \"\"\"\n",
      "    \n",
      "    distances = [] #will hold distance from bead (i) in frame 1 to each bead in frame 2\n",
      "    \n",
      "    #min of \"distances\" array above will represent bead 1's radial displacement from frame (n) to (n+1)\n",
      "    min_distance_list = [] #will hold (min) radial displacements of each bead from frame (n) to frame (n + 1):\n",
      "    \n",
      "    for n in range(200):\n",
      "        frame1 = Image.open(frame_arr[n])\n",
      "        frame2 = Image.open(frame_arr[n+1])\n",
      "        \n",
      "        beads_1 = getBeads(P,BlobFinder(frame1,tau))\n",
      "        beads_2 = getBeads(P,BlobFinder(frame2,tau))\n",
      "        for i in range(len(beads1)):\n",
      "            for j in range(len(beads2)):  \n",
      "                #distance from blob (i) in frame 1 to each bead in frame 2:\n",
      "                distance = Blob.distanceTo(beads_1[i],beads_1[i].centerOfMass,beads_2[j].centerofMass)\n",
      "                \n",
      "                #compare distance to condition delta_p (did it move outside the range?)\n",
      "                if distance < delta_p:\n",
      "                    distances.append(distance)\n",
      "                    \n",
      "            #creating list of minimum displacements\n",
      "            if len(distances) > 0:\n",
      "                min_distance_list.append(min(distances))\n",
      "            \n",
      "            #resetting distances array\n",
      "            distances = []\n",
      "        \n",
      "        #if len(beads1) != len(beads2):\n",
      "            \n",
      "    #returning txt file with radial displacements\n",
      "    distances = np.savetxt('Avo_Data.txt',distance_list, fmt='%.4e', header=\"My dataset\")\n",
      "    return distances\n",
      "\n",
      "#calling ParticleTracker function\n",
      "radial_displacements = ParticleTracker(frames,25,1,1)\n",
      "#!cat Avo_Data.txt           \n",
      "print distance_list\n",
      "\n",
      "\n"
     ],
     "language": "python",
     "metadata": {},
     "outputs": [
      {
       "ename": "NameError",
       "evalue": "global name 'getBeads' is not defined",
       "output_type": "pyerr",
       "traceback": [
        "\u001b[1;31m---------------------------------------------------------------------------\u001b[0m\n\u001b[1;31mNameError\u001b[0m                                 Traceback (most recent call last)",
        "\u001b[1;32m<ipython-input-4-7178646fb346>\u001b[0m in \u001b[0;36m<module>\u001b[1;34m()\u001b[0m\n\u001b[0;32m     46\u001b[0m \u001b[1;33m\u001b[0m\u001b[0m\n\u001b[0;32m     47\u001b[0m \u001b[1;31m#calling ParticleTracker function\u001b[0m\u001b[1;33m\u001b[0m\u001b[1;33m\u001b[0m\u001b[0m\n\u001b[1;32m---> 48\u001b[1;33m \u001b[0mradial_displacements\u001b[0m \u001b[1;33m=\u001b[0m \u001b[0mParticleTracker\u001b[0m\u001b[1;33m(\u001b[0m\u001b[0mframes\u001b[0m\u001b[1;33m,\u001b[0m\u001b[1;36m25\u001b[0m\u001b[1;33m,\u001b[0m\u001b[1;36m1\u001b[0m\u001b[1;33m,\u001b[0m\u001b[1;36m1\u001b[0m\u001b[1;33m)\u001b[0m\u001b[1;33m\u001b[0m\u001b[0m\n\u001b[0m\u001b[0;32m     49\u001b[0m \u001b[1;31m#!cat Avo_Data.txt\u001b[0m\u001b[1;33m\u001b[0m\u001b[1;33m\u001b[0m\u001b[0m\n\u001b[0;32m     50\u001b[0m \u001b[1;32mprint\u001b[0m \u001b[0mdistance_list\u001b[0m\u001b[1;33m\u001b[0m\u001b[0m\n",
        "\u001b[1;32m<ipython-input-4-7178646fb346>\u001b[0m in \u001b[0;36mParticleTracker\u001b[1;34m(frame_arr, P, tau, delta_p)\u001b[0m\n\u001b[0;32m     21\u001b[0m         \u001b[0mframe2\u001b[0m \u001b[1;33m=\u001b[0m \u001b[0mImage\u001b[0m\u001b[1;33m.\u001b[0m\u001b[0mopen\u001b[0m\u001b[1;33m(\u001b[0m\u001b[0mframe_arr\u001b[0m\u001b[1;33m[\u001b[0m\u001b[0mn\u001b[0m\u001b[1;33m+\u001b[0m\u001b[1;36m1\u001b[0m\u001b[1;33m]\u001b[0m\u001b[1;33m)\u001b[0m\u001b[1;33m\u001b[0m\u001b[0m\n\u001b[0;32m     22\u001b[0m \u001b[1;33m\u001b[0m\u001b[0m\n\u001b[1;32m---> 23\u001b[1;33m         \u001b[0mbeads_1\u001b[0m \u001b[1;33m=\u001b[0m \u001b[0mgetBeads\u001b[0m\u001b[1;33m(\u001b[0m\u001b[0mP\u001b[0m\u001b[1;33m,\u001b[0m\u001b[0mBlobFinder\u001b[0m\u001b[1;33m(\u001b[0m\u001b[0mframe1\u001b[0m\u001b[1;33m,\u001b[0m\u001b[0mtau\u001b[0m\u001b[1;33m)\u001b[0m\u001b[1;33m)\u001b[0m\u001b[1;33m\u001b[0m\u001b[0m\n\u001b[0m\u001b[0;32m     24\u001b[0m         \u001b[0mbeads_2\u001b[0m \u001b[1;33m=\u001b[0m \u001b[0mgetBeads\u001b[0m\u001b[1;33m(\u001b[0m\u001b[0mP\u001b[0m\u001b[1;33m,\u001b[0m\u001b[0mBlobFinder\u001b[0m\u001b[1;33m(\u001b[0m\u001b[0mframe2\u001b[0m\u001b[1;33m,\u001b[0m\u001b[0mtau\u001b[0m\u001b[1;33m)\u001b[0m\u001b[1;33m)\u001b[0m\u001b[1;33m\u001b[0m\u001b[0m\n\u001b[0;32m     25\u001b[0m         \u001b[1;32mfor\u001b[0m \u001b[0mi\u001b[0m \u001b[1;32min\u001b[0m \u001b[0mrange\u001b[0m\u001b[1;33m(\u001b[0m\u001b[0mlen\u001b[0m\u001b[1;33m(\u001b[0m\u001b[0mbeads1\u001b[0m\u001b[1;33m)\u001b[0m\u001b[1;33m)\u001b[0m\u001b[1;33m:\u001b[0m\u001b[1;33m\u001b[0m\u001b[0m\n",
        "\u001b[1;31mNameError\u001b[0m: global name 'getBeads' is not defined"
       ]
      }
     ],
     "prompt_number": 4
    },
    {
     "cell_type": "heading",
     "level": 2,
     "metadata": {},
     "source": [
      "Data Analysis"
     ]
    },
    {
     "cell_type": "markdown",
     "metadata": {},
     "source": [
      "Radial displacements will be used to estimate the Self-Diffusion Constant, related to the statistical variance per unit time by the Einstein-Smoluchowski equation. \n",
      "\n",
      "${\\sigma^2} = (r_1^2 + ... r_n^2)/(2n)$\n",
      "\n",
      "Quoting Dr. Klay, \"The self-diffusion constant D characterizes the stochastic movement of a molecule (bead) through a homogeneous medium (the water molecules) as a result of random thermal energy.\"\n",
      "\n",
      "Further, \"the Stokes-Einstein relation asserts that the self-diffusion constant of a spherical particle immersed in a fluid is given by: \"\n",
      "\n",
      "$D = kT/(6\\pi\\eta\\rho)$\n",
      "\n",
      "where, for the test data,\n",
      "\n",
      "$T = $ absolute temperature = 297 degrees Kelvin (room temperature)\n",
      "\n",
      "$\\eta = $ viscosity of water = $9.135x10^{-4}   Ns/m^2 $\n",
      "\n",
      "$\\rho = radius of bead = 0.5\n",
      "\n",
      "Rearranging, $k = (6D\\pi\\eta\\rho)/T$\n",
      "\n",
      "Boltzmann constant, and Avogadro's number."
     ]
    },
    {
     "cell_type": "code",
     "collapsed": false,
     "input": [
      "#distances_in = np.loadtxt('Avo_Data.txt')\n",
      "\n",
      "#delta_t is the time interval between position measurements\n",
      "delta_t = 0.5 #s\n",
      "\n",
      "#meters per pixel conversion:\n",
      "mp = (0.175*e(-6))**2\n",
      "\n",
      "r2 = distances_in**2\n",
      "variance = r2.sum()/(2.*len(distances_in))\n",
      "\n",
      "D = variance/(2.*delta_t)\n",
      "#since delta_t is 0.5 variance = D\n",
      "#k = 6*D*pi*eta*rho/T\n",
      "\n",
      "T = 297. #degrees Kelvin\n",
      "eta = 9.135*e(-4) #N*s/m^2\n",
      "rho = 0.5*e(-6) #m\n",
      "\n",
      "#Boltzmann constant:\n",
      "k = 6.*np.pi*D*eta*rho/T\n",
      "\n",
      "print \"The Boltzmann constant is \", k, \"J/K\"\n",
      "\n",
      "#universal gas constant:\n",
      "R = 8.31457 #J/K*mol\n",
      "\n",
      "NA = R/k #atoms per mol\n",
      "\n"
     ],
     "language": "python",
     "metadata": {},
     "outputs": [
      {
       "ename": "TypeError",
       "evalue": "'float' object is not callable",
       "output_type": "pyerr",
       "traceback": [
        "\u001b[1;31m---------------------------------------------------------------------------\u001b[0m\n\u001b[1;31mTypeError\u001b[0m                                 Traceback (most recent call last)",
        "\u001b[1;32m<ipython-input-5-031320eb3f61>\u001b[0m in \u001b[0;36m<module>\u001b[1;34m()\u001b[0m\n\u001b[0;32m      5\u001b[0m \u001b[1;33m\u001b[0m\u001b[0m\n\u001b[0;32m      6\u001b[0m \u001b[1;31m#meters per pixel conversion:\u001b[0m\u001b[1;33m\u001b[0m\u001b[1;33m\u001b[0m\u001b[0m\n\u001b[1;32m----> 7\u001b[1;33m \u001b[0mmp\u001b[0m \u001b[1;33m=\u001b[0m \u001b[1;33m(\u001b[0m\u001b[1;36m0.175\u001b[0m\u001b[1;33m*\u001b[0m\u001b[0me\u001b[0m\u001b[1;33m(\u001b[0m\u001b[1;33m-\u001b[0m\u001b[1;36m6\u001b[0m\u001b[1;33m)\u001b[0m\u001b[1;33m)\u001b[0m\u001b[1;33m**\u001b[0m\u001b[1;36m2\u001b[0m\u001b[1;33m\u001b[0m\u001b[0m\n\u001b[0m\u001b[0;32m      8\u001b[0m \u001b[1;33m\u001b[0m\u001b[0m\n\u001b[0;32m      9\u001b[0m \u001b[0mr2\u001b[0m \u001b[1;33m=\u001b[0m \u001b[0mdistances_in\u001b[0m\u001b[1;33m**\u001b[0m\u001b[1;36m2\u001b[0m\u001b[1;33m\u001b[0m\u001b[0m\n",
        "\u001b[1;31mTypeError\u001b[0m: 'float' object is not callable"
       ]
      }
     ],
     "prompt_number": 5
    },
    {
     "cell_type": "code",
     "collapsed": false,
     "input": [],
     "language": "python",
     "metadata": {},
     "outputs": []
    }
   ],
   "metadata": {}
  }
 ]
}