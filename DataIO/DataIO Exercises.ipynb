{
 "metadata": {
  "name": "",
  "signature": "sha256:e3f18095842ab87e265e3fdf7949f6d504258817535887a2e8a763cead0546f5"
 },
 "nbformat": 3,
 "nbformat_minor": 0,
 "worksheets": [
  {
   "cells": [
    {
     "cell_type": "heading",
     "level": 1,
     "metadata": {},
     "source": [
      "Data I/o Exercises"
     ]
    },
    {
     "cell_type": "code",
     "collapsed": false,
     "input": [
      "%pylab inline\n",
      "import numpy as np"
     ],
     "language": "python",
     "metadata": {},
     "outputs": [
      {
       "output_type": "stream",
       "stream": "stdout",
       "text": [
        "Populating the interactive namespace from numpy and matplotlib\n"
       ]
      }
     ],
     "prompt_number": 1
    },
    {
     "cell_type": "code",
     "collapsed": false,
     "input": [
      "f = open('messy_data.dat', 'w')\n",
      "import random\n",
      "for i in range(100):\n",
      "    for j in range(5):\n",
      "        f.write(' ' *random.randint(0,6))\n",
      "        f.write('%0*.*g' % (random.randint(8, 12), random.randint(5, 10), 100* random.random()))\n",
      "        if j != 4:\n",
      "            f.write(',')\n",
      "    f.write('\\n')\n",
      "f.close()"
     ],
     "language": "python",
     "metadata": {},
     "outputs": [],
     "prompt_number": 3
    },
    {
     "cell_type": "code",
     "collapsed": false,
     "input": [
      "!head -4 messy_data.dat"
     ],
     "language": "python",
     "metadata": {},
     "outputs": [
      {
       "output_type": "stream",
       "stream": "stdout",
       "text": [
        "     94.8421791,   56.8131685,  0000003.6026,      00045.0627,      00089.3447\r\n",
        "0077.70916, 00000038.178,    03.09140874,  24.411719,043.48581\r\n",
        "   00000034.594,  00016.8841,     00050.0934,  000000035.09,   084.8665\r\n",
        "    75.7374815,    00032.948,0057.93521,  42.008641,     52.516683\r\n"
       ]
      }
     ],
     "prompt_number": 4
    },
    {
     "cell_type": "markdown",
     "metadata": {},
     "source": [
      "(a) Write a program that reads in the contents of \"messy_data.dat\" and extracts the numbers from each line, using the string manipulations we used in section 1 (remember that float() will convert a suitable string to a floating-point number)."
     ]
    },
    {
     "cell_type": "code",
     "collapsed": false,
     "input": [
      "def read_program(f):\n",
      "    for i in range(100):\n",
      "        if i in f"
     ],
     "language": "python",
     "metadata": {},
     "outputs": []
    }
   ],
   "metadata": {}
  }
 ]
}