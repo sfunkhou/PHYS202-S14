{
 "metadata": {
  "name": "",
  "signature": "sha256:fcb6becf124ddf78ff9d754510ced5f391058eb694541f42ca81496bae890386"
 },
 "nbformat": 3,
 "nbformat_minor": 0,
 "worksheets": [
  {
   "cells": [
    {
     "cell_type": "heading",
     "level": 1,
     "metadata": {},
     "source": [
      "Linear Regression, Optimization and Curve Fitting Exercises"
     ]
    },
    {
     "cell_type": "code",
     "collapsed": false,
     "input": [
      "%pylab inline\n",
      "import numpy as np\n",
      "import matplotlib.pyplot as plot\n",
      "from scipy.optimize import curve_fit"
     ],
     "language": "python",
     "metadata": {},
     "outputs": [
      {
       "output_type": "stream",
       "stream": "stdout",
       "text": [
        "Populating the interactive namespace from numpy and matplotlib\n"
       ]
      }
     ],
     "prompt_number": 1
    },
    {
     "cell_type": "code",
     "collapsed": false,
     "input": [
      "def WeightedLLSqFit(x,y,w):\n",
      "    \"\"\"Take in arrays representing (x,y) values for a set of linearly varying data and an array of weights w.\n",
      "    Perform a weighted linear least squares regression.  Return the resulting slope and intercept\n",
      "    parameters of the best fit line with their uncertainties.\n",
      "\n",
      "    If the weights are all equal to one, the uncertainties on the parameters are calculated using the \n",
      "    non-weighted least squares equations.\"\"\"\n",
      "    \n",
      "    w_sum = 0\n",
      "    wx_sum = 0\n",
      "    wx2_sum = 0\n",
      "    wxy_sum = 0\n",
      "    for i in range(len(w)):\n",
      "        w_sum += w[i]\n",
      "        wx2_sum += (w[i]*x[i]**2)\n",
      "        wx_sum += (w[i]*x[i])\n",
      "        wxy += (w[i]*x[i]*y[i])\n",
      "    \n",
      "    denom = w_sum*wx2_sum - wx_sum**2\n",
      "    sigma_m = np.sqrt(w_sum/denom)\n",
      "    sigma_b = np.sqrt(wx2_sum/denom)\n",
      "    \n",
      "    wm_i = 1./(sigma_m**2)\n",
      "    wb_i = 1./(sigma_b**2)\n",
      "    \n",
      "    w_m = 0\n",
      "    w_b = 0\n",
      "    wx = 0\n",
      "    wx_2 = 0 #w*x^2\n",
      "    wxy = 0\n",
      "    \n",
      "    for i in range(len(w)):\n",
      "        w_m += wm_i[i]\n",
      "        w_b += wb_i[i]\n",
      "        wx_2 += (wm_i[i]*x[i]**2)\n",
      "        wx_sum += (w[i]*x[i])\n",
      "        wxy += (w[i]*x[i]*y[i])\n",
      "    \n",
      "    \n",
      "    \n",
      "    "
     ],
     "language": "python",
     "metadata": {},
     "outputs": []
    }
   ],
   "metadata": {}
  }
 ]
}