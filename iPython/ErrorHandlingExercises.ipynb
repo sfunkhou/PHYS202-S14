{
 "metadata": {
  "name": "",
  "signature": "sha256:2793ee8d818632471674ddbef834773081a642d719f0b24656d0feb5db00ba94"
 },
 "nbformat": 3,
 "nbformat_minor": 0,
 "worksheets": [
  {
   "cells": [
    {
     "cell_type": "heading",
     "level": 1,
     "metadata": {},
     "source": [
      "Error Handling Exercises"
     ]
    },
    {
     "cell_type": "code",
     "collapsed": false,
     "input": [],
     "language": "python",
     "metadata": {},
     "outputs": []
    }
   ],
   "metadata": {}
  }
 ]
}